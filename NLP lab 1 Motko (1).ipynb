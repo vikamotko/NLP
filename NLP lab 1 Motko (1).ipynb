{
 "cells": [
  {
   "cell_type": "code",
   "execution_count": 3,
   "id": "a9415c03",
   "metadata": {},
   "outputs": [
    {
     "name": "stdout",
     "output_type": "stream",
     "text": [
      "Requirement already satisfied: nltk in c:\\users\\hp new\\anaconda3\\lib\\site-packages (3.8.1)\n",
      "Requirement already satisfied: click in c:\\users\\hp new\\anaconda3\\lib\\site-packages (from nltk) (8.0.4)\n",
      "Requirement already satisfied: joblib in c:\\users\\hp new\\anaconda3\\lib\\site-packages (from nltk) (1.2.0)\n",
      "Requirement already satisfied: regex>=2021.8.3 in c:\\users\\hp new\\anaconda3\\lib\\site-packages (from nltk) (2022.7.9)\n",
      "Requirement already satisfied: tqdm in c:\\users\\hp new\\anaconda3\\lib\\site-packages (from nltk) (4.65.0)\n",
      "Requirement already satisfied: colorama in c:\\users\\hp new\\anaconda3\\lib\\site-packages (from click->nltk) (0.4.6)\n",
      "Note: you may need to restart the kernel to use updated packages.\n"
     ]
    }
   ],
   "source": [
    "pip install nltk\n"
   ]
  },
  {
   "cell_type": "code",
   "execution_count": 4,
   "id": "084a9d08",
   "metadata": {},
   "outputs": [
    {
     "name": "stdout",
     "output_type": "stream",
     "text": [
      "Requirement already satisfied: matplotlib in c:\\users\\hp new\\anaconda3\\lib\\site-packages (3.7.2)\n",
      "Requirement already satisfied: contourpy>=1.0.1 in c:\\users\\hp new\\anaconda3\\lib\\site-packages (from matplotlib) (1.0.5)\n",
      "Requirement already satisfied: cycler>=0.10 in c:\\users\\hp new\\anaconda3\\lib\\site-packages (from matplotlib) (0.11.0)\n",
      "Requirement already satisfied: fonttools>=4.22.0 in c:\\users\\hp new\\anaconda3\\lib\\site-packages (from matplotlib) (4.25.0)\n",
      "Requirement already satisfied: kiwisolver>=1.0.1 in c:\\users\\hp new\\anaconda3\\lib\\site-packages (from matplotlib) (1.4.4)\n",
      "Requirement already satisfied: numpy>=1.20 in c:\\users\\hp new\\anaconda3\\lib\\site-packages (from matplotlib) (1.24.3)\n",
      "Requirement already satisfied: packaging>=20.0 in c:\\users\\hp new\\anaconda3\\lib\\site-packages (from matplotlib) (23.1)\n",
      "Requirement already satisfied: pillow>=6.2.0 in c:\\users\\hp new\\anaconda3\\lib\\site-packages (from matplotlib) (9.4.0)\n",
      "Requirement already satisfied: pyparsing<3.1,>=2.3.1 in c:\\users\\hp new\\anaconda3\\lib\\site-packages (from matplotlib) (3.0.9)\n",
      "Requirement already satisfied: python-dateutil>=2.7 in c:\\users\\hp new\\anaconda3\\lib\\site-packages (from matplotlib) (2.8.2)\n",
      "Requirement already satisfied: six>=1.5 in c:\\users\\hp new\\anaconda3\\lib\\site-packages (from python-dateutil>=2.7->matplotlib) (1.16.0)\n",
      "Note: you may need to restart the kernel to use updated packages.\n"
     ]
    }
   ],
   "source": [
    "pip install matplotlib\n"
   ]
  },
  {
   "cell_type": "code",
   "execution_count": 5,
   "id": "6c0f562f",
   "metadata": {},
   "outputs": [
    {
     "name": "stdout",
     "output_type": "stream",
     "text": [
      "Requirement already satisfied: tk in c:\\users\\hp new\\anaconda3\\lib\\site-packages (0.1.0)Note: you may need to restart the kernel to use updated packages.\n",
      "\n"
     ]
    }
   ],
   "source": [
    "\n",
    "pip install tk"
   ]
  },
  {
   "cell_type": "code",
   "execution_count": 6,
   "id": "7e999356",
   "metadata": {},
   "outputs": [
    {
     "name": "stderr",
     "output_type": "stream",
     "text": [
      "[nltk_data] Downloading collection 'popular'\n",
      "[nltk_data]    | \n",
      "[nltk_data]    | Downloading package cmudict to C:\\Users\\HP\n",
      "[nltk_data]    |     NEW\\AppData\\Roaming\\nltk_data...\n",
      "[nltk_data]    |   Package cmudict is already up-to-date!\n",
      "[nltk_data]    | Downloading package gazetteers to C:\\Users\\HP\n",
      "[nltk_data]    |     NEW\\AppData\\Roaming\\nltk_data...\n",
      "[nltk_data]    |   Package gazetteers is already up-to-date!\n",
      "[nltk_data]    | Downloading package genesis to C:\\Users\\HP\n",
      "[nltk_data]    |     NEW\\AppData\\Roaming\\nltk_data...\n",
      "[nltk_data]    |   Package genesis is already up-to-date!\n",
      "[nltk_data]    | Downloading package gutenberg to C:\\Users\\HP\n",
      "[nltk_data]    |     NEW\\AppData\\Roaming\\nltk_data...\n",
      "[nltk_data]    |   Package gutenberg is already up-to-date!\n",
      "[nltk_data]    | Downloading package inaugural to C:\\Users\\HP\n",
      "[nltk_data]    |     NEW\\AppData\\Roaming\\nltk_data...\n",
      "[nltk_data]    |   Package inaugural is already up-to-date!\n",
      "[nltk_data]    | Downloading package movie_reviews to C:\\Users\\HP\n",
      "[nltk_data]    |     NEW\\AppData\\Roaming\\nltk_data...\n",
      "[nltk_data]    |   Package movie_reviews is already up-to-date!\n",
      "[nltk_data]    | Downloading package names to C:\\Users\\HP\n",
      "[nltk_data]    |     NEW\\AppData\\Roaming\\nltk_data...\n",
      "[nltk_data]    |   Package names is already up-to-date!\n",
      "[nltk_data]    | Downloading package shakespeare to C:\\Users\\HP\n",
      "[nltk_data]    |     NEW\\AppData\\Roaming\\nltk_data...\n",
      "[nltk_data]    |   Package shakespeare is already up-to-date!\n",
      "[nltk_data]    | Downloading package stopwords to C:\\Users\\HP\n",
      "[nltk_data]    |     NEW\\AppData\\Roaming\\nltk_data...\n",
      "[nltk_data]    |   Package stopwords is already up-to-date!\n",
      "[nltk_data]    | Downloading package treebank to C:\\Users\\HP\n",
      "[nltk_data]    |     NEW\\AppData\\Roaming\\nltk_data...\n",
      "[nltk_data]    |   Package treebank is already up-to-date!\n",
      "[nltk_data]    | Downloading package twitter_samples to C:\\Users\\HP\n",
      "[nltk_data]    |     NEW\\AppData\\Roaming\\nltk_data...\n",
      "[nltk_data]    |   Package twitter_samples is already up-to-date!\n",
      "[nltk_data]    | Downloading package omw to C:\\Users\\HP\n",
      "[nltk_data]    |     NEW\\AppData\\Roaming\\nltk_data...\n",
      "[nltk_data]    |   Package omw is already up-to-date!\n",
      "[nltk_data]    | Downloading package omw-1.4 to C:\\Users\\HP\n",
      "[nltk_data]    |     NEW\\AppData\\Roaming\\nltk_data...\n",
      "[nltk_data]    |   Package omw-1.4 is already up-to-date!\n",
      "[nltk_data]    | Downloading package wordnet to C:\\Users\\HP\n",
      "[nltk_data]    |     NEW\\AppData\\Roaming\\nltk_data...\n",
      "[nltk_data]    |   Package wordnet is already up-to-date!\n",
      "[nltk_data]    | Downloading package wordnet2021 to C:\\Users\\HP\n",
      "[nltk_data]    |     NEW\\AppData\\Roaming\\nltk_data...\n",
      "[nltk_data]    |   Package wordnet2021 is already up-to-date!\n",
      "[nltk_data]    | Downloading package wordnet31 to C:\\Users\\HP\n",
      "[nltk_data]    |     NEW\\AppData\\Roaming\\nltk_data...\n",
      "[nltk_data]    |   Package wordnet31 is already up-to-date!\n",
      "[nltk_data]    | Downloading package wordnet_ic to C:\\Users\\HP\n",
      "[nltk_data]    |     NEW\\AppData\\Roaming\\nltk_data...\n",
      "[nltk_data]    |   Package wordnet_ic is already up-to-date!\n",
      "[nltk_data]    | Downloading package words to C:\\Users\\HP\n",
      "[nltk_data]    |     NEW\\AppData\\Roaming\\nltk_data...\n",
      "[nltk_data]    |   Package words is already up-to-date!\n",
      "[nltk_data]    | Downloading package maxent_ne_chunker to C:\\Users\\HP\n",
      "[nltk_data]    |     NEW\\AppData\\Roaming\\nltk_data...\n",
      "[nltk_data]    |   Package maxent_ne_chunker is already up-to-date!\n",
      "[nltk_data]    | Downloading package punkt to C:\\Users\\HP\n",
      "[nltk_data]    |     NEW\\AppData\\Roaming\\nltk_data...\n",
      "[nltk_data]    |   Package punkt is already up-to-date!\n",
      "[nltk_data]    | Downloading package snowball_data to C:\\Users\\HP\n",
      "[nltk_data]    |     NEW\\AppData\\Roaming\\nltk_data...\n",
      "[nltk_data]    |   Package snowball_data is already up-to-date!\n",
      "[nltk_data]    | Downloading package averaged_perceptron_tagger to\n",
      "[nltk_data]    |     C:\\Users\\HP NEW\\AppData\\Roaming\\nltk_data...\n",
      "[nltk_data]    |   Package averaged_perceptron_tagger is already up-\n",
      "[nltk_data]    |       to-date!\n",
      "[nltk_data]    | \n",
      "[nltk_data]  Done downloading collection popular\n"
     ]
    },
    {
     "data": {
      "text/plain": [
       "True"
      ]
     },
     "execution_count": 6,
     "metadata": {},
     "output_type": "execute_result"
    }
   ],
   "source": [
    "import nltk\n",
    "nltk.download('popular')"
   ]
  },
  {
   "cell_type": "code",
   "execution_count": 7,
   "id": "bd927b90",
   "metadata": {},
   "outputs": [
    {
     "name": "stderr",
     "output_type": "stream",
     "text": [
      "[nltk_data] Downloading package nps_chat to C:\\Users\\HP\n",
      "[nltk_data]     NEW\\AppData\\Roaming\\nltk_data...\n",
      "[nltk_data]   Package nps_chat is already up-to-date!\n",
      "[nltk_data] Downloading package webtext to C:\\Users\\HP\n",
      "[nltk_data]     NEW\\AppData\\Roaming\\nltk_data...\n",
      "[nltk_data]   Package webtext is already up-to-date!\n"
     ]
    },
    {
     "name": "stdout",
     "output_type": "stream",
     "text": [
      "*** Introductory Examples for the NLTK Book ***\n",
      "Loading text1, ..., text9 and sent1, ..., sent9\n",
      "Type the name of the text or sentence to view it.\n",
      "Type: 'texts()' or 'sents()' to list the materials.\n",
      "text1: Moby Dick by Herman Melville 1851\n",
      "text2: Sense and Sensibility by Jane Austen 1811\n",
      "text3: The Book of Genesis\n",
      "text4: Inaugural Address Corpus\n",
      "text5: Chat Corpus\n",
      "text6: Monty Python and the Holy Grail\n",
      "text7: Wall Street Journal\n",
      "text8: Personals Corpus\n",
      "text9: The Man Who Was Thursday by G . K . Chesterton 1908\n"
     ]
    }
   ],
   "source": [
    "nltk.download('nps_chat')\n",
    "nltk.download('webtext')\n",
    "\n",
    "from nltk.book import *"
   ]
  },
  {
   "cell_type": "markdown",
   "id": "05afd94e",
   "metadata": {},
   "source": [
    "# TASK 1"
   ]
  },
  {
   "cell_type": "markdown",
   "id": "f819edf1",
   "metadata": {},
   "source": [
    "18 mod 8 = 2 - 2 текст"
   ]
  },
  {
   "cell_type": "markdown",
   "id": "5f509a3c",
   "metadata": {},
   "source": [
    "### 1.1"
   ]
  },
  {
   "cell_type": "code",
   "execution_count": 8,
   "id": "9358beb2",
   "metadata": {},
   "outputs": [],
   "source": [
    "text2 = nltk.Text(gutenberg.words('austen-sense.txt'))\n",
    "fdist = FreqDist(text2)"
   ]
  },
  {
   "cell_type": "code",
   "execution_count": 9,
   "id": "b237c34a",
   "metadata": {},
   "outputs": [],
   "source": [
    "unique_words = fdist.hapaxes()\n",
    "rare_words = [word for word, freq in fdist.items() if freq < 5]"
   ]
  },
  {
   "cell_type": "code",
   "execution_count": 10,
   "id": "d405d09b",
   "metadata": {},
   "outputs": [
    {
     "name": "stdout",
     "output_type": "stream",
     "text": [
      "Унікальні слова (unique_words): ['Sense', 'Sensibility', 'Jane', 'Austen', '1811', ']', 'generations', 'inheritor', 'bequeath', 'Gentleman', 'relish', 'devolved', 'inheriting', 'moiety', 'bequest', 'sale', 'articulation', 'economically', 'tardy', 'survived', 'including', 'legacies', 'urgency', 'prudently', 'caricature', 'warmed', 'Three', 'successively', 'funeral', 'dispute', 'decease', 'indelicacy', 'keen', 'whomsoever', 'immoveable', 'acutely', 'qualified', 'counsellor', 'joys', 'afflicted', 'strive', 'humored', 'imbibed', 'romance', 'thirteen', '2', 'installed', 'degraded', 'seasons', 'alloy', 'impoverishing', 'headed', 'stipulate', 'LET', 'diminished', 'REALLY', 'strikes', 'Fifteen', 'healthy', 'clogged', 'superannuated', 'amazing', 'restriction', 'drains', 'bind', 'inconvenient', 'enlarge', 'sixpence', 'discharging', 'presents', 'fish', 'Altogether', 'cheap', 'fulfil', 'removes', 'stock', 'belongs', 'indecorous', 'neighbourly', '3', 'remembrances', 'indefatigable', 'steadier', 'earthly', '7000L', 'repressed', 'uninfluenced', 'asunder', 'political', 'parliament', 'barouches', 'centered', 'forcibly', 'implies', 'militated', 'uninteresting', 'Music', 'draws', 'connoisseur', 'coincide', 'impenetrable', 'prose', 'virtues', 'ornament', 'destiny', '4', 'distrusts', 'innate', 'cordial', 'tastes', 'worthy', 'keeps', 'literature', 'imperfection', 'Esteem', 'Cold', 'Ashamed', 'outstripped', 'stimulated', 'prosperous', 'denote', 'unpromising', 'inquietude', 'forbade', 'aggrandizement', 'uncivil', 'DRAW', 'IN', 'endeavor', 'deliberation', 'scale', 'vicinity', '5', 'dispatched', 'incommode', 'inhabiting', 'civilly', 'replying', 'northward', 'disapprobation', 'conscientiously', 'impracticable', 'consisted', 'packages', 'depart', 'west', 'disposing', 'undoubtingly', 'feebly', 'drift', 'purse', 'calculation', 'ye', 'branch', '6', 'Valley', 'fertile', 'wooded', 'pasture', 'demesne', 'wicket', 'defective', 'tiled', 'shutters', 'honeysuckles', 'garrets', 'cheered', 'recommending', 'cultivated', 'woody', 'terminated', 'branched', 'steepest', 'parlors', 'remainder', 'garret', 'widen', 'alterations', 'savings', 'endeavoring', 'unpacked', 'affixed', 'landlord', 'sociable', 'denoting', 'detract', 'Conversation', 'chatty', 'differed', '7', 'screened', 'projection', 'hospitality', 'dissimilar', 'talent', 'unconnected', 'compass', 'hunted', 'resources', 'Continual', 'piqued', 'collecting', 'noisier', 'juvenile', 'ham', 'chicken', 'unsatiable', 'females', 'manor', 'moonlight', 'Luckily', 'fat', 'witty', 'hearts', 'pretended', 'blush', 'attacks', 'adapted', 'repulsive', 'boisterous', 'tore', 'unlocked', 'songs', 'lain', 'position', 'celebrated', 'applauded', 'sing', 'forfeited', 'shameless', 'amounted', 'ecstatic', 'sympathize', 'estimable', 'contrasted', 'insensibility', '8', 'ample', 'respectably', 'promotion', 'zealously', 'weddings', 'blushes', 'decisively', 'accusation', 'protect', 'Infirmity', 'rheumatism', 'miracle', 'losing', 'commercial', 'dooming', 'rheumatic', 'waistcoats', 'cramps', 'rheumatisms', 'afflict', 'feeble', 'despised', 'Confess', 'flushed', 'Soon', 'grate', 'bedchamber', 'unaccountably', 'dejected', '9', 'familiar', 'occupation', 'classed', 'reminding', 'possessor', 'stirred', 'abounded', 'alternative', 'valleys', 'memorable', 'sunshine', 'tempting', 'pencil', 'threatening', 'cloud', 'blue', 'faces', 'gales', 'westerly', 'resisting', 'heads', 'Chagrined', 'exigence', 'speed', 'pointers', 'apologized', 'gracefulness', 'theme', 'gallantry', 'lifting', 'hero', 'dresses', 'shooting', 'jacket', 'sprained', 'ankle', 'indignantly', 'black', 'bitch', 'shades', 'Court', 'inherit', 'adding', 'incommoded', 'CATCHING', 'Men', 'hop', 'danced', 'abhor', 'odious', 'gross', 'construction', 'deemed', 'ingenuity', 'smitten', 'spraining', 'ankles', '10', 'preserver', 'precision', 'styled', 'cant', 'outraged', 'transparency', 'hardily', 'passionately', 'largest', 'conformity', 'Encouraged', 'convert', 'passages', 'idolized', 'acquiesced', 'decisions', 'Pope', 'exhausted', 'scanty', 'roads', 'jest', 'irksome', 'persons', 'sacrificing', 'undivided', 'slighting', 'desperation', 'seized', 'rash', 'delineated', 'brighter', 'speculative', 'incurred', 'annexed', 'successful', 'mild', 'gloominess', 'undervalue', 'remembers', 'patronised', 'indignity', 'contemptuously', 'climate', 'mosquitoes', 'nabobs', 'mohrs', 'palanquins', 'coats', 'Add', 'brilliancy', 'imperfections', 'mass', 'possessing', 'disarm', 'mare', '11', 'occupy', 'execution', 'included', 'witnessing', 'excellencies', 'marking', 'aim', 'illaudable', 'illustration', 'partners', 'dances', 'everlasting', 'talker', 'history', 'sisterly', 'accidently', 'contrives', 'basis', 'define', 'prejudices', 'systems', 'nought', 'resumed', 'criminal', 'minutiae', 'pardonable', 'refinements', 'connect', 'disastrous', '12', 'arrives', 'Imagine', 'gallop', 'awaken', 'dream', 'truths', 'Seven', 'Opposition', 'appeal', 'representing', 'faithful', 'forego', 'Queen', 'Mab', 'overheard', 'tempers', 'clearer', 'Down', 'whispering', 'tumbled', 'stated', 'unison', 'attacked', 'curate', 'invention', 'begins', 'inelegant', 'mindful', 'amidst', 'proprietor', 'sail', 'provisions', 'undertaking', '13', 'dispersing', 'hardships', 'None', 'trick', 'Newton', 'conveniently', 'pry', 'stare', 'consultation', 'leant', 'Impudence', 'WHERE', 'propose', 'enquired', 'pleasanter', 'pleasantness', 'evince', 'bowling', 'newly', 'pleasantest', '14', 'termination', 'wonderer', 'comings', 'goings', 'befallen', 'wager', 'speculation', 'incompatible', 'contradictory', 'ending', 'happening', 'Improve', 'inch', 'local', 'unemployed', 'uselessly', 'pull', 'smokes', 'INconvenience', 'broader', 'endear', 'denoted', 'inhabited', 'prescience', 'Must', 'degrade', 'Extend', '15', 'pretext', 'foresight', 'noticing', 'Surprised', 'partook', 'powered', 'Disappointment', 'exercised', 'dispatches', 'exhilaration', 'Almost', 'confusedly', 'torment', 'indubitable', 'feeding', 'Gone', 'quarrelled', 'suspects', 'disapproves', 'transact', 'dismiss', 'dares', 'feels', 'cavil', 'blameable', 'inadvertence', 'depressed', 'certainties', 'unavoidably', 'Secrecy', 'practiced', 'ARE', 'Concealing', 'accuse', 'incautiousness', 'outweighs', 'fainter', 'mighty', 'concession', 'Ungracious', 'stranger', 'independently', 'prosperously', 'representations', 'swollen', '16', 'risen', 'headache', 'potent', 'oftenest', 'singing', 'fetches', 'mystery', 'Supposing', 'inflict', 'unacknowledged', 'dearly', 'revealment', 'overstrained', 'witticisms', 'volume', 'Shakespeare', 'Hamlet', 'Months', 'Hitherto', 'stole', 'climbing', 'disapproved', 'seclusion', 'MIND', 'controlled', 'stretch', 'reaching', 'riding', 'particularity', 'quickened', 'dispersed', 'continuation', 'elect', 'thickly', 'transporting', 'showers', 'inspired', 'nuisance', 'swept', 'SOMETIMES', 'equals', 'rises', 'bottoms', 'friendliest', 'directing', 'extorting', 'regulate', '17', 'extending', 'reanimate', 'parents', 'fame', 'famous', 'Greatness', 'Strange', 'Grandeur', 'external', 'TWO', 'describing', 'accurately', 'Hunters', 'hunt', 'novel', 'apiece', 'insufficiency', 'vanish', 'booksellers', 'sellers', 'Thomson', 'disputes', 'loose', 'cash', 'collection', 'bulk', 'heirs', 'ablest', 'maxim', 'presume', 'steadfast', 'detected', 'mistakes', 'ingenious', 'oneself', 'deliberate', 'subservient', 'confound', 'conform', 'Quite', 'foolishly', 'negligent', 'awkwardness', 'Shyness', 'fullest', '18', 'inspiring', 'reservedness', 'intimated', 'upstairs', '***', 'minutely', 'surfaces', 'uncouth', 'irregular', 'rugged', 'indistinct', 'medium', 'hazy', 'meadows', 'scattered', 'answers', 'unites', 'utility', 'rocks', 'promontories', 'grey', 'moss', 'brush', 'believes', 'affects', 'discrimination', 'possesses', 'scenery', 'pretends', 'tries', 'defined', 'blasted', 'flourishing', 'tattered', 'nettles', 'thistles', 'heath', 'blossoms', 'tower', 'troop', 'tidy', 'villages', 'banditti', 'plait', 'conspicuous', 'darker', 'inconsiderately', 'surpassed', 'casts', 'instantaneously', 'conclusions', 'theft', 'contrivance', 'henceforward', 'newness', 'significant', 'instructions', 'entertainment', 'contribute', 'Impossible', 'Whitakers', 'blushing', 'guessing', 'hunts', 'archness', '19', 'unequal', 'environs', 'disengaged', 'detested', 'Disappointed', 'qualifications', 'painfully', 'extorted', 'consistency', 'shortness', 'temporizing', 'grievance', 'reformed', 'renewal', 'finger', 'helpless', 'army', 'chambers', 'Temple', 'circles', 'gigs', 'abstruse', 'navy', 'solicitations', 'trades', 'Columella', 'fascinating', 'ere', 'defy', 'desponding', 'judiciously', 'augment', 'meritorious', 'ones', 'loving', 'shutting', 'abundance', 'forbidden', 'chained', 'closing', 'knocking', 'turf', 'casement', 'Hush', 'hallooing', 'plump', 'prepossessing', 'briefly', 'surveying', 'meantime', 'nodding', 'ushered', 'stared', 'pitched', 'ceiling', 'oftener', '20', 'ours', 'chaperon', 'bowing', 'complaining', 'Dullness', 'billiard', 'vile', 'Gilberts', 'whip', 'abused', 'genuinely', 'unaffectedly', 'soured', 'bias', 'blunder', 'establishing', 'sneer', 'canvassing', 'election', 'fatiguing', 'Parliament', 'P', 'irrational', 'palm', 'abuses', 'languages', 'decline', 'changing', 'gathered', ';--\"', 'Somehow', 'Weymouth', 'praises', 'objected', '21', 'entertain', 'unsuitableness', 'invite', 'philosophy', 'ungenteel', 'unfashionable', 'doatingly', 'Benevolent', 'philanthropic', 'playthings', 'boasting', 'smartness', 'actual', 'judicious', 'extolling', 'humouring', 'whims', 'importunate', 'patterns', 'foibles', 'rapacious', 'beings', 'credulous', 'exorbitant', 'swallow', 'endurance', 'viewed', 'encroachments', 'mischievous', 'sashes', 'untied', 'bags', 'knives', 'composedly', 'claiming', 'monkey', 'pinching', 'playful', 'caressing', 'embraces', 'scratching', 'pattern', 'outdone', 'consternation', 'surpass', 'emergency', 'assuage', 'sufferer', 'kisses', 'bathed', 'stuffed', 'sugar', 'plums', 'sobbed', 'lustily', 'kicked', 'brothers', 'soothings', 'ineffectual', 'apricot', 'marmalade', 'successfully', 'bruised', 'remedy', 'scratch', 'medicine', 'trivial', 'lies', 'eclat', 'doat', 'distractedly', 'outside', 'estimate', 'lief', 'nasty', 'Rose', 'clerk', 'Simpson', 'blinded', 'shrewd', 'artlessness', 'niggardly', 'dealt', 'consists', 'Twill', 'proclaiming', 'newer', 'significancy', 'nods', 'winks', 'countless', 'wittiest', 'alphabet', 'inquisitiveness', 'assertions', 'petty', 'unavailing', '22', 'toleration', 'vulgarity', 'striving', 'amusing', 'mental', 'rectitude', 'equality', 'toward', 'valueless', 'curious', 'manage', 'amiably', 'bashful', 'Astonishment', 'disbelief', 'divine', 'varied', 'incredulity', 'swoon', 'cautiously', 'date', 'pupil', 'OCCASION', 'puts', 'detecting', 'likeness', 'paces', 'keeping', 'Besides', 'wiping', 'break', 'Pardon', 'provide', 'sometime', 'carelessly', 'sheet', 'subsist', 'struggled', 'Writing', 'separations', 'confounded', 'editions', '23', 'inventing', 'asserted', 'indisputable', 'dissatisfaction', 'evidence', 'condemning', 'dupe', 'illusion', 'softener', 'defended', 'regain', 'infatuation', 'frivolous', 'supposition', 'alienated', 'Supported', 'extinction', 'mourning', 'obstacles', 'perfections', 'entrusted', 'aggravation', 'unshaken', 'poignant', 'renewing', 'venturing', 'confessedly', 'joking', 'disclosure', 'mistrust', 'joining', 'club', 'foresaw', 'fairer', 'permission', 'compliant', 'frightful', 'novelty', 'candlelight', 'candles', 'reseated', 'spoilt', 'Casino', 'Ladyship', 'touched', 'tuned', 'toned', 'rolling', 'labour', 'singly', 'profited', 'proposals', 'rivals', 'forwarding', 'wrapped', '24', 'undeserving', 'apologize', 'ice', 'Offended', 'quarrelling', 'madness', 'test', 'lowness', 'impose', 'involve', 'owning', 'headstrong', 'frightens', 'disinterestedness', 'coxcombs', 'modestest', 'prettiest', 'lip', 'angrily', 'powerful', 'concerto', 'prefer', 'dissolving', 'beset', 'effectually', 'frighten', 'Tis', 'pique', 'stress', 'biased', 'partly', 'duration', 'brightened', 'confidential', 'induce', 'confidante', 'conversations', 'celebration', 'festival', 'proclaim', '25', 'spending', 'habitation', 'traded', 'streets', 'Portman', 'unexpectedly', 'Misses', 'alleged', 'refusal', 've', 'merrier', 'poking', 'cautiousness', 'accrue', 'bedrooms', 'motherly', 'estranged', 'obviating', 'impediment', 'separately', 'scruples', 'guidance', 'abandoned', 'abridgement', 'BOTH', 'nonsensical', 'anticipate', 'lifted', 'counteracted', 'exhilarated', 'perturbation', 'restorative', 'score', 'eternal', 'station', '26', 'unsuited', 'overlooked', 'beamed', 'blank', 'banish', 'companionableness', 'wrapt', 'exclusively', 'extort', 'preferring', 'salmon', 'cod', 'boiled', 'fowls', 'veal', 'cutlets', 'handsomely', 'mantelpiece', 'silks', 'mysteriously', 'sealed', 'W', 'ringing', 'neighbouring', 'seconds', 'exclaiming', 'unnoticed', 'demanded', 'decently', 'caused', 'Cartwright', 'bee', 'conjure', 'commissioned', 'agreeing', 'Wherever', 'abstracted', 'Restless', 'dawdled', 'sorrowful', 'parcels', 'negative', 'permitting', 'mysterious', 'interference', 'backwards', '27', 'holds', 'souls', 'Frosts', 'freeze', 'eluded', 'variations', 'colder', 'muff', 'persevered', 'excepting', 'city', 'Pleased', 'occurrence', 'strengthening', 'requesting', 'Business', 'ball', 'unpremeditated', 'reputation', 'risking', 'nine', 'violins', 'collation', 'recognition', 'nodded', 'sauntered', 'Invited', 'Impatient', 'awakening', 'plea', '-?', 'debated', 'shield', '28', 'altering', 'destination', 'string', 'alighted', 'splendidly', 'insufferably', 'tribute', 'curtsying', 'mingle', 'heat', 'Cassino', 'chairs', 'unobserved', 'betray', 'feature', 'shake', 'During', 'struggling', 'wildest', 'Go', 'incessantly', 'exclamations', 'hartshorn', 'undressed', 'investigation', 'Absence', 'pangs', 'await', 'deepest', 'ESTEEM', 'embitter', 'final', 'irreconcilable', '29', 'kneeling', 'permit', '-?\"', 'bursts', 'sooth', 'tranquilize', 'irritability', 'wander', 'meal', 'paleness', 'tremour', 'lengths', 'worsted', 'rug', 'imply', 'wedding', 'choked', 'covering', 'MADAM', 'unintentional', 'obey', 'commands', 'obedient', 'JOHN', 'WILLOUGHBY', 'impudently', 'proclaimed', 'villainy', 'perusal', 'disengagement', 'depravity', 'unread', 'unreasonably', 'Determined', 'contributing', 'giddy', 'food', 'stomach', 'faintness', 'exclaim', 'torrent', 'unresisted', 'Exert', 'Think', 'Mine', 'Engagement', 'hither', 'repulsed', 'insulting', 'misinformed', 'insincere', 'hazarded', 'unsolicited', 'warranted', 'covenant', 'blackest', 'cruelly', 'Dearest', 'instigated', 'leagued', 'whoever', 'bely', 'Whoever', 'detestably', 'enemy', 'malignant', 'supports', 'laudable', 'resists', 'malevolence', 'discerning', 'posts', 'shuddering', 'Cruel', 'clearing', \"'--\", 'barbarously', 'premeditated', 'female', 'regards', 'constrained', 'drops', '30', 'abominably', 'plague', 'admirers', 'Parrys', 'Sandersons', 'tiptoe', 'adjusting', 'abstraction', 'fondness', 'tempted', 'sweetmeats', 'olives', 'Misery', 'grieves', 'cherries', 'oddest', '!--\"', 'stylish', 'aunt', 'Biddy', 'Henshawe', 'fly', 'grows', 'reform', 'Walker', 'guardians', 'moan', 'hates', 'joked', 'naming', 'allusion', 'blown', 'Law', 'enforcement', 'hilarity', 'Mind', 'Mid', 'chuckle', 'drawback', 'prenticed', 'dove', 'cote', 'stew', 'ponds', 'turnpike', 'butcher', 'prettier', 'meat', 'mutton', 'drives', 'pillow', 'repaired', 'Constantia', 'tasted', 'compromise', 'swallowed', 'reflected', 'healing', 'presided', 'KNEW', 'elucidation', 'unfolded', 'unfathomable', 'stationer', 'preparations', 'identify', 'proportionately', 'Till', 'hardness', 'instantaneous', '31', 'awoke', 'acquitting', 'uniform', 'refinement', 'delicacies', 'polished', 'Thus', 'outstretched', 'explanatory', 'rushing', 'inforce', 'streamed', 'passionate', 'referring', 'page', 'directions', 'retreating', 'esteeming', 'lightly', 'desiring', 'HERS', 'narrator', 'SHALL', 'sighing', 'diffuse', 'resembling', 'orphan', 'infancy', 'ages', 'playfellows', 'encumbered', 'blindly', 'eloping', 'Scotland', 'treachery', 'lament', 'regiment', 'divorce', 'arrive', 'search', 'fruitless', 'seducer', 'sin', 'adequate', 'Regard', 'spunging', 'faded', 'acute', 'blooming', 'healthful', 'endured', 'beholding', 'consumption', 'Life', 'disgraced', 'fates', 'untouched', 'handle', 'concise', 'fourteenth', 'residing', 'imprudently', 'obstinate', 'clue', 'ranging', 'unconcerned', 'forwarded', 'availed', 'seduced', 'Knowing', 'irresolute', 'interfering', 'reclaim', 'dishonorable', 'usage', 'doubtless', 'compares', 'pictures', 'tormented', 'Concern', 'strengthen', 'afflictions', 'endeavors', 'irritates', 'unworthiness', 'reluctantly', 'punish', 'soldier', 'presumed', 'delivery', '32', 'submissive', 'seduction', 'desertion', 'ONCE', 'preyed', 'brooding', 'Bad', 'humiliating', 'Against', 'individual', 'afflicting', 'shorten', 'comprise', 'occupations', 'cheat', 'spurned', 'Design', 'foreseeing', 'alleviation', 'comforted', 'militate', 'carefulness', 'reaped', 'dog', 'Folly', 'puppies', 'coachmaker', 'painter', 'portrait', 'warehouse', 'clamorous', 'qualification', 'officious', 'condolence', 'assemblies', 'abundantly', 'humiliations', 'augmented', 'Midsummer', 'honours', 'Early', 'Holburn', 'Streets', 'overpowering', 'emphasis', 'awhile', 'TOLD', 'MONTH', 'amazingly', 'WORD', 'genteelly', 'simpering', 'laughs', 'crossing', 'cessation', 'hostile', 'US', 'governing', '33', 'yielded', 'conditioned', 'Sackville', 'negotiation', 'jewels', 'transacted', 'ascending', 'counter', 'quickest', 'correctness', 'shape', 'ornaments', 'inventive', 'comprised', 'broad', 'stares', 'imprint', 'sterling', 'insignificance', 'puppyism', 'bedroom', 'ivory', 'pearls', 'named', 'gloves', 'leisurely', 'beasts', 'Exchange', 'seal', 'Excellent', 'duly', 'pitch', 'TWICE', 'secures', 'hang', 'encouragements', 'insurmountable', 'universal', 'ALL', 'PARTIES', 'vouchsafe', 'Hon', 'bank', 'enclosure', 'Common', 'drain', 'Kingham', 'Farm', 'Gibson', 'More', 'intrinsically', 'stocks', 'banker', 'bequeathed', 'Far', 'repine', 'undoubted', 'knoll', 'walnut', 'slope', 'thorns', 'patches', 'Having', 'buying', 'rings', 'cheerfuller', 'dies', 'saves', 'Whereas', 'kinder', 'destroys', 'relinquished', 'compunction', 'atoning', 'Abundance', 'prepossessed', 'associate', '34', 'mutually', 'sympathised', 'demeanor', 'uncordial', 'sedulously', 'flowed', 'detection', 'prodigiously', 'powerfully', 'nieces', 'inflicting', 'Pity', 'behold', 'upright', 'sourness', 'sallow', 'rescued', 'proportioned', 'pointedly', 'misapplied', 'despising', 'honorably', 'teazed', 'bespoke', 'Mistress', 'Master', 'laboured', 'disqualifications', 'Want', 'politics', 'inclosing', 'coffee', 'heights', 'tallest', 'politely', 'grandmothers', 'descendant', 'enforcing', 'mounted', 'ornamented', 'officiously', 'disclaiming', 'connoisseurship', 'considerately', 'Hum', 'paint', 'delightfully', 'beautifully', 'Beautifully', 'stiffly', 'philippic', 'audacity', 'foretell', 'wounded', 'intelligent', 'salts', 'enraged', 'author', 'BEEN', '35', 'undesirable', 'retarded', 'OWN', 'creation', 'caprice', 'ELINOR', 'derive', 'Civil', 'hauteur', 'spends', 'courtesy', 'unpleasantest', 'LOOK', 'deter', 'exceeded', 'rare', 'demure', 'contribution', 'volunteer', 'heroically', 'loitered', 'witnesses', 'conciliate', 'benignant', 'muttered', 'admirable', 'relatives', 'sting', 'scrupulous', 'performing', 'thirds', 'auditors', 'unexhilarating', 'Going', 'outstaid', 'teazing', 'steadily', 'tricked', '36', 'Within', 'newspapers', 'Esq', 'heir', 'intruding', 'monopolize', 'administer', 'discomposed', 'reconcile', 'conciliation', 'lighter', 'anymore', 'unsuspected', 'congratulated', 'unfatherly', 'infants', 'proposition', 'imaginations', 'outrun', 'misconstruction', 'mechanically', 'toilet', 'gowns', 'washing', 'scrutinies', 'douceur', 'undergoing', 'punctuality', 'preceded', 'coachman', 'harp', 'violoncello', 'excursive', 'glances', 'group', 'lecture', 'stroke', 'emptiness', 'lamenting', 'GAUCHERIE', 'candidly', 'generously', 'tuition', 'Westminster', 'surprising', 'hearty', 'Bonomi', 'accommodations', 'Dartford', 'tables', 'refreshments', 'saloon', 'measured', 'Dennison', 'enfranchisement', 'shews', 'vigor', 'pacified', 'slyly', 'cherishing', 'precise', 'shown', 'vouchsafed', 'entry', 'emigrant', 'edtions', 'II', '37', 'resume', 'resettled', 'fuss', 'fretted', 'pimples', 'stepped', 'smirked', 'simpered', 'conjurer', 'popt', \";'\", 'steward', 'dreaming', 'fury', 'fainting', 'packed', 'uproar', 'hears', 'scornfully', 'bigger', 'impartiality', 'undeceiving', ',-', 'dwell', 'practised', 'practicable', 'belonged', 'hearer', 'comforter', 'unamiable', 'mankind', 'regularity', 'alarms', 'November', 'undeceive', 'harbour', 'cries', 'caresses', 'obtaining', 'bitterness', 'reparation', 'discreet', 'unchanging', 'dissented', 'spasm', 'heroism', 'complicated', 'storm', 'weathered', 'apprehended', 'harmless', 'ANY', 'THERE', 'Duty', 'Norfolk', 'tax', 'penury', 'protested', 'clapped', 'Gracious', 'obstinacy', 'forbore', 'blunt', 'deserves', 'disrespectfully', 'throughout', 'wrung', 'braving', 'threats', 'Born', 'deplorable', 'taverns', 'forbear', 'conditions', 'lawyer', 'Everybody', 'galling', 'critique', '38', 'disobedient', 'gloried', 'offences', 'Sunday', 'accosted', 'Get', 'Clarke', 'WITHOUT', 'rage', 'vowed', 'trim', 'bonnet', 'feather', 'pink', 'ribbons', 'plaguing', 'triumphantly', 'reports', 'Godby', 'Richard', 'Saturday', 'Once', 'shift', 'oath', 'below', 'silk', 'interrupting', 'Laughing', '.)--', 'Martha', 'Sharpe', 'bones', 'chimney', 'uppermost', 'lodging', '--,', 'huswifes', 'Bishop', 'giggling', '!\\'\"', 'bout', 'spotted', 'muslin', 'claimed', 'foreplanned', 'ay', 'em', 'furnishing', 'Building', 'apologies', 'trials', 'persecutions', 'thankfully', 'bright', 'twould', 'reminds', 'respectfully', 'comments', '39', 'effected', 'hostess', 'detaining', 'Easter', 'auspicious', 'gently', '...\"', 'argue', 'Bristol', 'concurrence', 'statement', ';\"--', 'gape', 'cats', 'ennui', 'honorable', 'intent', 'pursue', 'Still', 'lesson', 'badness', 'etiquette', 'motion', 'commended', 'Astonished', 'unlover', 'hinder', 'ejaculation', 'older', 'froid', 'suitor', 'persevering', 'rightly', 'impolitic', 'circumstanced', 'nonsense', '200', 'L', 'annum', 'presenting', 'minor', 'patronage', 'unforeseen', 'misunderstood', 'worded', '40', 'sagaciously', 'withdrawn', 'TRIED', 'sensibly', 'Opportunity', 'Holborn', 'ho', 'goodby', 'band', 'congratulating', 'Whether', 'determining', 'intruded', 'charged', 'breathing', 'faster', 'Allow', 'LOOKED', 'gathering', 'solicitation', 'Truth', 'benefactress', 'recently', 'respectability', 'lodges', 'St', 'James', 'befall', 'anticipation', 'reconsider', 'reverted', 'marries', 'exchanged', 'forfeiting', 'ebullition', 'beds', 'ninny', 'sha', 'nt', '41', 'worship', 'verbal', ':--\"', 'livings', 'vacate', 'improvident', 'bears', 'refrain', 'impoverished', 'befalls', 'reasoning', 'discarded', 'accelerate', 'S', 'decisive', 'Choice', 'intents', 'purposes', 'agitate', 'uninformed', 'unfair', 'division', 'inquisitive', 'immoderately', 'clergyman', 'fanciful', 'imagery', 'prayers', 'surplice', 'publishing', 'banns', 'Brown', 'immovable', 'considerably', 'kingdom', 'intend', 'frantic', 'Just', 'captivate', 'interfere', 'hit', 'disapproving', 'enamoured', 'accents', '42', 'completed', 'intercourse', 'promptitude', 'April', 'respective', 'homes', 'extinguished', 'persecution', 'unseen', 'tranquility', 'restoring', 'Somerset', 'sloping', 'closer', 'plantation', 'dotted', 'fir', 'mountain', 'ash', 'acacia', 'thick', 'interspersed', 'Lombardy', 'poplars', 'swelling', 'eighty', 'stealing', 'eminence', 'wide', 'tract', 'east', 'ridge', 'horizon', 'invaluable', 'circuit', 'luxurious', 'premises', 'whiled', 'lounging', 'gardener', 'blights', 'dawdling', 'plants', 'unwarily', 'nipped', 'yard', 'dairy', 'hens', 'forsaking', 'nests', 'fox', 'decrease', 'brood', 'merriment', 'deterred', 'Reading', 'knack', 'heartiness', 'atoned', 'conceited', 'enlargement', 'aptitude', 'traits', 'idled', 'mornings', 'billiards', 'Epicurism', 'confidant', 'suggestion', 'observer', 'unexpressed', 'delighful', 'oldest', 'grass', 'wettest', 'ailments', 'Prescriptions', 'poured', 'cough', 'sore', 'simplest', 'remedies', '43', 'shivering', 'sofa', 'efficacy', 'persisting', 'disorder', 'infant', 'importunity', 'helpmate', 'malady', 'lamentation', 'acceptably', 'piquet', 'demur', 'seconded', 'emergence', 'owners', 'boldly', 'seizure', 'admission', 'expel', 'anticipations', 'auspiciously', 'administering', 'cordials', 'beneficial', 'unusually', 'nurses', 'recreating', 'unremitting', 'inarticulate', 'sounds', 'accidental', 'assisting', 'despatching', 'effecting', 'rung', 'despondence', 'obviated', 'guide', 'summons', 'meanwhile', 'exactness', 'Hour', 'delirium', 'tortured', 'incoherently', 'pictured', 'attendant', 'reproaches', 'punctual', 'unabated', 'stupor', 'image', 'scrupled', 'reasonableness', 'bury', 'foregoing', 'revival', 'conning', 'Hope', 'Half', 'Others', 'signs', 'gaze', 'Anxiety', 'felicitations', 'unfeigned', 'unequivocal', 'expand', 'demonstrations', 'breast', 'calming', 'enfeebled', 'supplying', 'succour', 'relapse', 'remind', 'sweetly', 'refreshment', 'capability', 'retired', 'stormy', 'roared', 'beat', 'blast', 'store', 'ALMOST', 'shutter', 'flaring', 'lamps', 'discern', 'vestibule', 'inner', 'rushed', '44', 'obeyed', 'Sit', 'dispatch', 'opposite', 'abruptness', 'AM', 'mood', 'glow', 'overspreading', 'knave', 'liquor', 'strangeness', 'intelligible', 'drunk', 'pint', 'beef', 'nuncheon', 'intoxication', 'blockhead', 'LONG', 'accounted', 'diabolical', 'Careless', 'insist', 'associating', 'debts', 'reprobate', 'blameless', 'addresses', 'improperly', 'expatiate', 'scrupling', 'circumspection', 'contemptible', 'hardening', 'passions', 'creating', '--(', '?)', 'extremest', 'omitted', 'taxed', 'purity', 'discontented', 'formally', 'awaited', 'deliver', 'debate', 'undervalued', 'magnanimity', 'reproachfully', 'dissembling', 'reliance', 'gives', 'grudge', 'rascally', 'tediously', 'infamous', 'metaphor', 'forbid', 'dagger', 'thunderbolt', 'Thunderbolts', 'daggers', 'undergone', 'changes', 'Relate', 'remorse', 'shrugging', 'silencing', \".'--\", 'infamously', 'retreat', 'wiser', 'cool', 'Watched', 'Lodging', 'blundered', 'artless', 'confiding', 'hateful', 'Those', 'holding', 'hue', 'breakfasting', 'vague', 'Affecting', 'playfulness', 'impudence', 'appeased', 'feminine', 'servilely', 'copying', 'original', 'diction', 'Preparation', 'couched', 'bluster', 'blackguard', 'reasonings', 'copied', 'relics', 'pocketbook', 'hoarded', 'ingratiating', 'virulence', 'memento', 'slightingly', 'inflicted', 'lightened', 'spontaneous', 'inconstant', 'Drury', 'Lane', 'vex', 'horridly', 'bluntly', 'imminent', 'puppy', 'scorning', 'hating', 'latest', 'projects', 'irreparable', 'Extravagance', 'Vanity', 'Each', 'outwardly', 'incurable', 'letting', 'forgetting', 'rub', 'Domestic', '45', 'widely', 'differing', 'commiseration', 'awaking', 'refreshed', 'Short', 'Eager', 'save', 'hall', 'embraced', 'bliss', 'stake', 'wearing', 'irritation', 'blamed', 'widower', 'reproved', 'mend', 'temperate', 'exuberance', 'imparted', 'unawares', 'undesignedly', 'equalled', 'embellishments', 'warning', 'worthiest', 'acquired', 'Time', 'rooted', 'solidly', 'unstudied', 'accordant', 'liveliness', 'artificial', 'dissent', '46', 'weakening', 'smoothly', 'recurrence', 'reclining', 'dawned', 'determinate', 'hospitable', 'redeem', 'bidding', 'dullness', 'bodily', 'field', 'unobtrusiveness', 'entitled', 'subsequent', 'traced', 'accustom', 'opera', 'containing', 'duets', 'keys', 'abatement', 'anticipating', 'edge', 'Cross', 'Abbeyland', 'ruins', 'Priory', 'foundations', 'resorted', 'production', 'borrow', 'indolence', 'repining', 'virtuous', 'control', 'unfulfilled', 'unsettle', 'Willing', 'appointed', 'invalid', 'genial', 'untried', 'mound', 'treasured', 'doubly', 'shamefully', 'unguarded', 'postponing', 'crept', 'destruction', 'fretful', 'murmurings', 'failing', 'repaid', 'imitate', 'restraints', 'deserted', 'professed', 'unbounded', 'reproving', 'adhering', 'worry', 'solely', 'henceforth', '>', 'incitement', 'humbled', 'amended', 'regulated', 'religion', 'hazarding', 'listener', 'protestations', 'whiter', 'panting', 'unknowingly', 'closely', 'dreading', 'conjecturing', 'minuteness', 'articulate', '47', 'unmoved', 'unbroken', 'unblemished', 'replace', 'injure', 'interests', 'retailed', 'Reflection', 'sobered', 'facts', 'embellishment', 'astray', 'unquiet', 'unsteady', 'unbiased', 'sensitive', 'poorly', 'expensiveness', 'inexperience', 'LESS', 'economy', 'retrenched', 'management', 'abridge', 'enjoyments', 'quivered', 'Selfish', 'ruling', 'finds', 'unembarrassed', 'suffers', 'pecuniary', 'reckons', 'necessitous', 'innumerable', 'Rather', 'fairly', 'enumeration', 'unitedly', 'unsubdued', 'studies', 'vigour', 'prosecution', 'start', 'intuitively', 'disordered', 'stopping', 'New', 'Inn', 'Sally', 'howsever', 'westward', 'recognised', 'tablecloth', 'appetites', 'meals', 'dessert', 'similarity', 'hazard', 'misled', 'slighter', 'wont', 'inattentive', '48', 'lurking', 'provident', 'conspired', 'contriving', 'manager', 'economical', 'thoughtless', 'indolent', 'utterance', 'footsteps', 'path', 'merited', 'conforming', 'stammered', 'unintelligible', 'shaken', 'retreated', 'dryness', 'affirmative', 'fearing', 'EDWARD', 'doubtingly', 'spoiling', 'sheath', 'cutting', 'echoed', 'unspeakable', 'penetrate', 'lessening', '49', 'Unaccountable', 'failure', 'exercising', 'commonly', 'swell', 'entanglement', 'flowing', 'weaknesses', 'errors', 'boyish', 'philosophic', 'unconquerable', 'outgrown', 'chosen', 'nominal', 'university', 'Considering', 'wrought', 'minds', 'Comparisons', 'justifying', 'compared', 'honourably', 'profiting', 'familiarized', 'sedateness', 'labor', 'incessant', 'discussions', 'puzzle', 'worked', 'afterward', 'stupified', 'SIR', 'Being', 'scorn', 'Sincerely', 'wisher', 'LUCY', 'FERRARS', 'burnt', 'Please', 'destroy', 'scrawls', 'comment', 'composition', 'worlds', 'pages', 'substance', 'appropriate', 'bribing', 'disinherited', 'jealousy', 'flourish', 'enlightened', 'disquiet', 'option', 'renounced', 'relent', 'WHAT', 'plead', 'FAITH', 'plighted', 'sacred', 'expediency', 'resented', 'Which', 'ungraciously', 'glebe', 'warmest', 'residue', 'enrich', 'comer', 'calculate', 'disproportion', 'rumour', 'unite', 'nerve', 'thrill', 'transport', 'tale', 'jilting', 'hussy', 'borrowed', 'Burgess', 'crossness', 'strains', 'enormously', 'amiss', 'penitent', 'patron', '50', 'fluctuating', 'resuscitation', 'publication', 'nobleman', 'THREE', 'decree', 'augmenting', 'shuffling', 'excuses', 'completion', 'delays', 'dilatoriness', 'workmen', 'Mansion', 'superintend', 'project', 'invent', 'sweep', 'prophecies', 'jumbled', 'couples', 'pasturage', 'inspect', 'gates', 'Hanger', 'insulted', 'scrape', 'assiduous', 'crowned', 'obstructed', 'interviews', 'TIME', 'lingered', 'supplanted', 'tricking', 'acquaintances', 'instigation', 'adopted', 'transgressed', 'unpardoned', 'messages', 'haughty', 'birth', 'intruder', 'continually', 'subsisting', 'disagreements', 'exceed', 'rendering', 'useless', 'policy', 'frequency', 'Precious', 'obligations', 'confederacy', 'observable', 'maxims', 'constitutional', 'safeguard', 'sober', 'submitting', 'patroness', 'halves', 'stating', 'clemency', 'inconsolable', 'fled', 'habitual', 'breed', 'dogs', 'surviving', 'standard', 'ranked', 'disagreement', 'producing', 'THE', 'END']\n"
     ]
    }
   ],
   "source": [
    "print(\"Унікальні слова (unique_words):\", unique_words)"
   ]
  },
  {
   "cell_type": "code",
   "execution_count": 11,
   "id": "a91a8ae3",
   "metadata": {},
   "outputs": [
    {
     "name": "stdout",
     "output_type": "stream",
     "text": [
      "Слова, які зустрічаються менше 5 разів: ['[', 'Sense', 'Sensibility', 'Jane', 'Austen', '1811', ']', '1', 'centre', 'generations', 'surrounding', 'owner', 'nephew', 'Henry', 'legal', 'inheritor', 'bequeath', 'niece', 'Gentleman', 'solid', 'relish', 'amply', 'devolved', 'succession', 'inheriting', 'moiety', 'ungrateful', 'destroyed', 'bequest', 'providing', 'provision', 'sale', 'tied', 'benefit', 'visits', 'unusual', 'imperfect', 'articulation', 'cunning', 'tricks', 'outweigh', 'economically', 'tardy', 'survived', 'including', 'legacies', 'urgency', 'recommendation', 'prudently', 'unless', 'respected', 'conducted', 'discharge', 'duties', 'caricature', 'minded', 'meditated', 'fortunes', 'warmed', 'Three', 'successively', 'repent', 'funeral', 'attendants', 'dispute', 'decease', 'indelicacy', 'unpleasing', 'honor', 'keen', 'romantic', 'whomsoever', 'immoveable', 'disgust', 'acutely', 'ungracious', 'despise', 'sakes', 'effectual', 'possessed', 'coolness', 'qualified', 'counsellor', 'enabled', 'counteract', 'govern', 'taught', 'respects', 'joys', 'moderation', 'strikingly', 'cherished', 'violence', 'overpowered', 'renewed', 'created', 'admitting', 'afflicted', 'consult', 'strive', 'rouse', 'encourage', 'forbearance', 'humored', 'imbibed', 'romance', 'thirteen', 'bid', '2', 'installed', 'degraded', 'accommodate', 'reminded', 'seasons', 'possess', 'alloy', 'impoverishing', 'rob', 'blood', 'relationship', 'amount', 'exist', 'marriages', 'headed', 'senses', 'begging', 'stipulate', 'requested', 'neglect', 'Something', 'LET', 'Consider', 'gravely', 'numerous', 'convenient', 'diminished', 'Five', 'prodigious', 'REALLY', 'occasions', 'THEY', 'strikes', 'annuity', 'hesitated', 'fifteen', 'Fifteen', 'purchase', 'stout', 'healthy', 'forty', 'rid', 'annuities', 'clogged', 'payment', 'superannuated', 'amazing', 'disagreeable', 'Twice', 'sick', 'perpetual', 'restriction', 'abhorrence', 'pin', 'yearly', 'drains', 'regular', 'rent', 'Undoubtedly', 'raises', 'bind', 'inconvenient', 'occasionally', 'allowance', 'enlarge', 'larger', 'sixpence', 'richer', 'discharging', 'helping', 'move', 'presents', 'fish', 'll', 'unreasonable', 'brings', 'board', 'Altogether', 'cheap', 'housekeeping', 'absurd', 'clearly', 'strictly', 'fulfil', 'acts', 'removes', 'services', 'acceptable', 'Stanhill', 'china', 'plate', 'linen', 'legacy', 'stock', 'belongs', 'argument', 'irresistible', 'decision', 'indecorous', 'neighbourly', '3', 'disinclination', 'revive', 'heightening', 'remembrances', 'indefatigable', 'suitable', 'notions', 'steadier', 'rejected', 'approved', 'solemn', 'earthly', 'smaller', '7000L', 'affluence', 'reproached', 'incapable', 'welfare', 'firmly', 'relied', 'maternal', 'eligibility', 'according', 'mothers', 'repressed', 'uninfluenced', 'doctrine', 'asunder', 'attracted', 'comprehension', 'graces', 'diffident', 'indication', 'longed', 'political', 'parliament', 'blessings', 'attained', 'quieted', 'ambition', 'driving', 'barouche', 'barouches', 'centered', 'Fortunately', 'careless', 'unobtrusive', 'timed', 'chanced', 'contrast', 'forcibly', 'implies', 'Like', 'sentiment', 'inferior', 'separate', 'pains', 'attaching', 'banished', 'comprehended', 'penetration', 'quietness', 'militated', 'uninteresting', 'rapidly', 'approaching', 'miss', 'highest', 'disapprove', 'tenderly', 'grace', 'virtue', 'Music', 'attract', 'admires', 'drawings', 'draws', 'connoisseur', 'characters', 'coincide', 'charm', 'spiritless', 'tame', 'severely', 'bore', 'lines', 'driven', 'wild', 'pronounced', 'impenetrable', 'prose', 'Cowper', 'overlook', 'Mama', 'require', 'virtues', 'ornament', 'despair', 'fortunate', 'destiny', '4', 'performances', 'opportunities', 'learning', 'distrusts', 'innate', 'simplicity', 'offending', 'rapturous', 'honoured', 'cordial', 'estimating', 'minuter', 'propensities', 'inclinations', 'tastes', 'worthy', 'unreserved', 'excellence', 'keeps', 'engrossed', 'studied', 'subjects', 'literature', 'pronounce', 'correct', 'pure', 'improve', 'sweetness', 'imperfection', 'certainty', 'conjectured', 'Esteem', 'Cold', 'Ashamed', 'Use', 'Excuse', 'Believe', 'doubtful', 'rank', 'outstripped', 'advantages', 'lose', 'pursuit', 'indispensably', 'stimulated', 'genius', 'prosperous', 'denote', 'unpromising', 'inquietude', 'dejection', 'dependent', 'forbade', 'indulgence', 'aggrandizement', 'depending', 'limits', 'uneasy', 'uncivil', 'affronting', 'expressively', 'DRAW', 'IN', 'unconscious', 'endeavor', 'resolving', 'insinuations', 'contained', 'Cottage', 'parish', 'fail', 'unfeeling', 'deliberation', 'county', 'guest', 'inhabit', 'acknowledgment', 'acceptance', 'hastened', 'oppose', 'scale', 'moderate', 'vicinity', 'dissuade', 'acquiescence', '5', 'dispatched', 'indulged', 'announcing', 'incommode', 'inhabiting', 'civilly', 'replying', 'hence', 'northward', 'accommodating', 'resolve', 'unavoidable', 'principally', 'tended', 'disregarded', 'disapprobation', 'conscientiously', 'limited', 'impracticable', 'consisted', 'household', 'packages', 'depart', 'article', 'furnished', 'agreement', 'west', 'disposing', 'sell', 'consulted', 'wisdom', 'prepare', 'preferred', 'undoubtingly', 'description', 'examine', 'diminution', 'feebly', 'defer', 'fulfilled', 'Since', 'neglected', 'quitting', 'accomplishment', 'drift', 'maintenance', 'purse', 'calculation', 'Many', 'shed', 'adieus', 'wandered', 'viewing', 'ye', 'continue', 'leaf', 'decay', 'branch', 'motionless', 'shade', '6', 'tedious', 'Valley', 'fertile', 'wooded', 'pasture', 'winding', 'mile', 'court', 'demesne', 'neat', 'wicket', 'compact', 'defective', 'building', 'roof', 'tiled', 'shutters', 'painted', 'honeysuckles', 'sixteen', 'feet', 'square', 'garrets', 'built', 'repair', 'dried', 'cheered', 'September', 'recommending', 'High', 'cultivated', 'woody', 'windows', 'extensive', 'commanded', 'surrounded', 'terminated', 'branched', 'steepest', 'additions', 'indispensable', 'apartments', 'ourselves', 'plenty', 'parlors', 'throwing', 'remainder', 'chamber', 'garret', 'snug', 'widen', 'accordingly', 'alterations', 'savings', 'wise', 'contented', 'arranging', 'endeavoring', 'placing', 'possessions', 'unpacked', 'affixed', 'landlord', 'theirs', 'sociable', 'cordially', 'perseverance', 'stuff', 'fruit', 'insisted', 'conveying', 'denoting', 'polite', 'graceful', 'frankness', 'detract', 'Conversation', 'chatty', 'precaution', 'recurred', 'extremity', 'hung', 'shy', 'formal', 'resembled', 'differed', 'debating', 'securing', '7', 'screened', 'projection', 'hospitality', 'gratification', 'dissimilar', 'outward', 'talent', 'unconnected', 'compass', 'sportsman', 'hunted', 'shot', 'resources', 'spoil', 'Continual', 'supplied', 'deficiencies', 'piqued', 'arrangements', 'collecting', 'noisier', 'juvenile', 'forming', 'ham', 'chicken', 'doors', 'balls', 'unsatiable', 'appetite', 'charmed', 'inhabitants', 'unaffected', 'captivating', 'friendliness', 'showing', 'settling', 'females', 'esteems', 'sportsmen', 'manor', 'welcomed', 'smallness', 'families', 'procuring', 'moonlight', 'Luckily', 'entire', 'merry', 'fat', 'elderly', 'vulgar', 'jokes', 'laughter', 'witty', 'lovers', 'husbands', 'hearts', 'pretended', 'blush', 'attacks', 'adapted', 'absolute', 'bachelor', 'gentlemanlike', 'recommend', 'insipidity', 'repulsive', 'boisterous', 'mirth', 'pulled', 'tore', 'clothes', 'unlocked', 'sang', 'songs', 'lain', 'position', 'celebrated', 'played', 'applauded', 'song', 'order', 'diverted', 'sing', 'forfeited', 'shameless', 'amounted', 'ecstatic', 'sympathize', 'estimable', 'contrasted', 'horrible', 'insensibility', 'outlived', 'acuteness', 'exquisite', 'colonel', 'humanity', '8', 'ample', 'jointure', 'respectably', 'promotion', 'zealously', 'ability', 'projecting', 'weddings', 'attachments', 'enjoyed', 'raising', 'blushes', 'discernment', 'decisively', 'attentively', 'ascertained', 'inconsiderable', 'endless', 'incomprehensible', 'absurdity', 'ancient', 'youthful', 'throw', 'ridicule', 'accusation', 'intentionally', 'sensation', 'infirmity', 'protect', 'Infirmity', 'infirm', 'deceive', 'limbs', 'complain', 'rheumatism', 'commonest', 'terror', 'miracle', 'apprehensive', 'losing', 'matrimony', 'pausing', 'inspire', 'unsuitable', 'commercial', 'benefited', 'dooming', 'damp', 'rheumatic', 'shoulders', 'flannel', 'waistcoats', 'waistcoat', 'aches', 'cramps', 'rheumatisms', 'species', 'ailment', 'afflict', 'feeble', 'despised', 'Confess', 'flushed', 'cheek', 'hollow', 'pulse', 'Soon', 'detain', 'recollecting', 'showed', 'Does', 'grate', 'bedchamber', 'composed', 'distinction', 'unaccountably', 'Even', 'invariable', 'dejected', '9', 'familiar', 'occupation', 'mix', 'resolute', 'classed', 'attainable', 'issued', 'earliest', 'mansion', 'reminding', 'possessor', 'stirred', 'abounded', 'seek', 'summits', 'alternative', 'dirt', 'valleys', 'beneath', 'beauties', 'memorable', 'steps', 'sunshine', 'showery', 'sky', 'tempting', 'pencil', 'lastingly', 'threatening', 'cloud', 'gaily', 'ascended', 'rejoicing', 'glimpse', 'blue', 'faces', 'animating', 'gales', 'south', 'westerly', 'pitied', 'sharing', 'sensations', 'pursued', 'resisting', 'clouds', 'heads', 'Chagrined', 'unwillingly', 'shelter', 'exigence', 'running', 'speed', 'steep', 'false', 'step', 'involuntarily', 'bottom', 'safety', 'gun', 'pointers', 'playing', 'yards', 'foot', 'twisted', 'modesty', 'arms', 'apologized', 'intrusion', 'additional', 'ugly', 'dirty', 'wet', 'granted', 'departed', 'midst', 'manly', 'gracefulness', 'theme', 'gallantry', 'exterior', 'crimsoned', 'lifting', 'robbed', 'regarding', 'energy', 'adorned', 'hero', 'previous', 'formality', 'rapidity', 'dresses', 'shooting', 'jacket', 'becoming', 'sprained', 'ankle', 'interval', 'ride', 'Thursday', 'Know', 'decent', 'bolder', 'rider', 'indignantly', 'talents', 'nicest', 'black', 'bitch', 'pointer', 'shades', 'resided', 'visiting', 'Court', 'inherit', 'adding', 'tumbling', 'incommoded', 'attempts', 'CATCHING', 'Men', 'ineligible', 'Christmas', 'hop', 'danced', 'sparkling', 'covert', 'cap', 'abhor', 'phrase', 'conquest', 'odious', 'tendency', 'gross', 'illiberal', 'construction', 'deemed', 'ingenuity', 'conquests', 'smitten', 'spraining', 'ankles', '10', 'preserver', 'precision', 'styled', 'prompted', 'interview', 'handsomer', 'height', 'lovely', 'cant', 'violently', 'outraged', 'happens', 'skin', 'brown', 'transparency', 'brilliant', 'attractive', 'dark', 'hardily', 'vivacity', 'passionately', 'largest', 'discussion', 'conformity', 'Encouraged', 'authors', 'dwelt', 'convert', 'works', 'passages', 'idolized', 'arguments', 'brightness', 'displayed', 'acquiesced', 'decisions', 'enthusiasm', 'conversed', 'familiarity', 'Scott', 'admiring', 'Pope', 'despatch', 'exhausted', 'topic', 'suffice', 'scanty', 'erred', 'decorum', 'deceitful', 'roads', 'jest', 'scold', 'check', 'irksome', 'ardour', 'example', 'gradually', 'estimation', 'faultless', 'propensity', 'peculiarly', 'persons', 'sacrificing', 'undivided', 'slighting', 'forms', 'worldly', 'desperation', 'seized', 'perfection', 'rash', 'unjustifiable', 'delineated', 'brighter', 'speculative', 'riches', 'secretly', 'perceptible', 'noticed', 'rival', 'incurred', 'annexed', 'assigned', 'hindrance', 'opposed', 'successful', 'beheld', 'mild', 'oppression', 'gloominess', 'hints', 'injuries', 'disappointments', 'esteemed', 'slighted', 'prejudiced', 'undervalue', 'speaks', 'remembers', 'boast', 'converse', 'patronised', 'indignity', 'abuse', 'undiscerning', 'defence', 'protege', 'saucy', 'various', 'contemptuously', 'East', 'Indies', 'climate', 'hot', 'mosquitoes', 'troublesome', 'nabobs', 'gold', 'mohrs', 'palanquins', 'stretched', 'candour', 'employ', 'coats', 'Add', 'brilliancy', 'decide', 'imperfections', 'mass', 'comparatively', 'insipid', 'possessing', 'using', 'unkindly', 'disarm', 'stubborn', 'artful', 'unanswerable', 'disliking', 'threatened', 'curricle', 'mare', 'irreproachable', '11', 'Little', 'occupy', 'invitations', 'execution', 'accomplished', 'October', 'included', 'witnessing', 'excellencies', 'marking', 'suggest', 'abhorred', 'unreserve', 'aim', 'restraint', 'illaudable', 'disgraceful', 'subjection', 'illustration', 'evenings', 'cheated', 'partners', 'dances', 'provoke', 'checking', 'display', 'ardent', 'devoted', 'amusements', 'teach', 'Neither', 'everlasting', 'talker', 'ensured', 'history', 'memory', 'Towards', 'experienced', 'boys', 'excite', 'sisterly', 'conversing', 'accidently', 'Or', 'considers', 'contrives', 'reflecting', 'wives', 'basis', 'define', 'prejudices', 'inconveniences', 'atone', 'systems', 'nought', 'resumed', 'criminal', 'perverseness', 'minutiae', 'pardonable', 'refinements', 'dangerous', 'experience', 'inforced', 'series', 'rise', 'conjectures', 'connect', 'disastrous', '12', 'extravagant', 'testimony', 'Without', 'alter', 'gift', 'stable', 'intends', 'groom', 'arrives', 'Imagine', 'gallop', 'Most', 'awaken', 'dream', 'truths', 'refused', 'trifle', 'merest', 'Seven', 'insufficient', 'wisest', 'Opposition', 'appeal', 'representing', 'indulgent', 'consented', 'subdued', 'imprudent', 'mentioning', 'faithful', 'forego', 'apparent', 'expressing', 'Queen', 'Mab', 'overheard', 'pronouncing', 'addressing', 'Christian', 'tempers', 'clearer', 'Down', 'wore', 'neck', 'miniature', 'Take', 'Last', 'whispering', 'scissors', 'tumbled', 'kissed', 'folded', 'stated', 'authority', 'withhold', 'unison', 'sagacity', 'attacked', 'curate', 'invention', 'dead', 'begins', 'F', 'rained', 'interruption', 'inelegant', 'mindful', 'amidst', 'endeavours', 'recover', 'proprietor', 'strict', 'noble', 'sail', 'provisions', 'carriages', 'bold', 'undertaking', '13', 'excursion', 'fatigued', 'assembled', 'dispersing', 'sun', 'hardships', 'While', 'Among', 'Nobody', 'None', 'Avignon', 'discompose', 'madam', 'Whom', 'colouring', 'requires', 'attendance', 'admittance', 'shook', 'invented', 'trick', 'guineas', 'Careys', 'Newton', 'disappointing', 'conveniently', 'obliging', 'pry', 'announced', 'horseback', 'Honiton', 'bowed', 'complaints', 'lamentations', 'restrained', 'universally', 'provoking', 'exultingly', 'lowering', 'stare', 'concluding', 'consultation', 'procure', 'ordered', 'lanes', 'contentment', 'elder', 'leant', 'Impudence', 'WHERE', 'method', 'unlikely', 'propose', 'enquired', 'doubting', 'pleasanter', 'pleasantness', 'evince', 'visibly', 'modern', 'corner', 'bowling', 'wood', 'newly', 'pleasantest', '14', 'termination', 'steadiness', 'concealing', 'wonderer', 'comings', 'goings', 'intermission', 'befallen', 'determination', 'reckoned', 'sadly', 'May', 'sickly', 'wager', 'cleared', 'bargain', 'varying', 'speculation', 'incompatible', 'rated', 'complained', 'relative', 'contradictory', 'practice', 'expressive', 'distinguishing', 'ending', 'happening', 'Improve', 'stone', 'inch', 'alarmed', 'sacrifice', 'local', 'Depend', 'unemployed', 'uselessly', 'dispose', 'defect', 'pull', 'exact', 'kitchen', 'smokes', 'INconvenience', 'variation', 'flatter', 'disadvantage', 'broader', 'staircase', 'endear', 'denoted', 'inhabited', 'prescience', 'Must', 'lowered', 'imaginary', 'degrade', 'apartment', 'handsomest', 'dimensions', 'Extend', 'unchanged', 'Shall', '15', 'excused', 'pretext', 'absent', 'foreseen', 'foresight', 'apparently', 'handkerchief', 'noticing', 'Surprised', 'mantel', 'shewed', 'partook', 'powered', 'Disappointment', 'exercised', 'dispatches', 'exhilaration', 'Almost', 'confusedly', 'linger', 'torment', 'affectation', 'backwardness', 'quarrel', 'indubitable', 'tenderest', 'feeding', 'uncheerful', 'travel', 'Gone', 'intending', 'owned', 'behave', 'quarrelled', 'suspects', 'disapproves', 'sends', 'transact', 'dismiss', 'DOES', 'dares', 'feels', 'cavil', 'anticipated', 'blameable', 'inadvertence', 'depressed', 'recent', 'probabilities', 'certainties', 'unavoidably', 'allowances', 'candid', 'Secrecy', 'practiced', 'departing', 'deviation', 'acquitted', 'ARE', 'expedient', 'Concealing', 'accuse', 'reproaching', 'incautiousness', 'syllables', 'nearest', 'daily', 'outweighs', 'wretchedly', 'carelessness', 'fainter', 'correspond', 'mighty', 'concession', 'altar', 'Ungracious', 'uniformly', 'inconsistency', 'create', 'involuntary', 'affairs', 'ungenerous', 'suspicious', 'embarrassed', 'plain', 'avowal', 'consistent', 'foundation', 'WE', 'stranger', 'independently', 'prosperously', 'representations', 'swollen', 'pressing', 'slightest', 'anxiously', '16', 'inexcusable', 'risen', 'repose', 'incurring', 'awake', 'wept', 'headache', 'nourishment', 'forbidding', 'potent', 'indulging', 'reverse', 'voices', 'oftenest', 'gazing', 'sadness', 'applied', 'alternately', 'singing', 'suspended', 'courted', 'calmer', 'solitary', 'meditations', 'effusions', 'explanations', 'fetches', 'carries', 'correspondence', 'mystery', 'suggesting', 'Supposing', 'inflict', 'forcing', 'unacknowledged', 'dearly', 'revealment', 'denial', 'overstrained', 'witticisms', 'volume', 'Shakespeare', 'Hamlet', '...', 'Months', 'wandering', 'Hitherto', 'carefully', 'rambles', 'stole', 'climbing', 'exertions', 'disapproved', 'seclusion', 'MIND', 'controlled', 'gaining', 'Beyond', 'stretch', 'reaching', 'Amongst', 'riding', 'distinguish', 'rapturously', 'hastening', 'coat', 'screen', 'particularity', 'quickened', 'pace', 'abruptly', 'hurrying', 'dispersed', 'dismounted', 'continuation', 'deficiency', 'confused', 'sufficiently', 'elect', 'month', 'thickly', 'leaves', 'transporting', 'showers', 'inspired', 'nuisance', 'swept', 'shared', 'SOMETIMES', 'rousing', 'Look', 'tranquil', 'equals', 'plantations', 'farthest', 'rises', 'grandeur', 'bottoms', 'lane', 'situated', 'friendliest', 'directing', 'conveniences', 'extorting', 'mortified', 'regulate', 'displeasure', '17', 'kindest', 'extending', 'reanimate', 'praised', 'attributing', 'indignant', 'parents', 'orator', 'fame', 'famous', 'Heaven', 'Greatness', 'Strange', 'Grandeur', 'competence', 'external', 'TWO', 'guessed', 'hunters', 'describing', 'accurately', 'Hunters', 'hunt', 'novel', 'somebody', 'apiece', 'animation', 'cheeks', 'glowing', 'unanimous', 'insufficiency', 'vanish', 'magnificent', 'booksellers', 'sellers', 'print', 'shops', 'commission', 'greatness', 'content', 'Thomson', 'copy', 'falling', 'unworthy', 'tells', 'tree', 'Should', 'Forgive', 'disputes', 'recall', 'loose', 'cash', 'collection', 'bulk', 'heirs', 'ablest', 'maxim', 'presume', 'steadfast', 'Nor', 'talks', 'detected', 'mistakes', 'misapprehension', 'fancying', 'ingenious', 'deception', 'originated', 'oneself', 'deliberate', 'judgments', 'subservient', 'neighbours', 'aimed', 'confound', 'advised', 'conform', 'Quite', 'foolishly', 'negligent', 'awkwardness', 'gentility', 'inattention', 'Shyness', 'inferiority', 'Reserved', 'Am', 'calls', 'fullest', '18', 'inspiring', 'reservedness', 'intimated', 'upstairs', '***', 'higher', 'scenes', 'minutely', 'surfaces', 'uncouth', 'irregular', 'rugged', 'indistinct', 'soft', 'medium', 'hazy', 'atmosphere', 'honestly', 'timber', 'meadows', 'farm', 'scattered', 'answers', 'unites', 'utility', 'rocks', 'promontories', 'grey', 'moss', 'brush', 'falls', 'believes', 'disgusted', 'pretensions', 'affects', 'discrimination', 'possesses', 'fastidious', 'landscape', 'scenery', 'jargon', 'pretends', 'tries', 'defined', 'detest', 'worn', 'hackneyed', 'profess', 'crooked', 'blasted', 'straight', 'flourishing', 'ruined', 'tattered', 'cottages', 'nettles', 'thistles', 'heath', 'blossoms', 'watch', 'tower', 'troop', 'tidy', 'villages', 'finest', 'banditti', 'thoughtfully', 'plait', 'conspicuous', 'fingers', 'wear', 'darker', 'inconsiderately', 'vexation', 'surpassed', 'momentary', 'casts', 'instantaneously', 'conclusions', 'theft', 'contrivance', 'affront', 'affecting', 'internally', 'henceforward', 'catch', 'eyeing', 'satisfying', 'censured', 'Before', 'survey', 'discovering', 'newness', 'learned', 'significant', 'instructions', 'drink', 'entertainment', 'contribute', 'MUST', 'enforced', 'Impossible', 'yourselves', 'Whitakers', 'nameless', 'blushing', 'communicative', 'expressions', 'guessing', 'hunts', 'archness', '19', 'mortification', 'unequal', 'environs', 'disengaged', 'quickly', 'repeatedly', 'lie', 'detested', 'astonishing', 'imperfectly', 'Disappointed', 'displeased', 'qualifications', 'painfully', 'extorted', 'consistency', 'attributed', 'shortness', 'fettered', 'temporizing', 'grievance', 'yield', 'reformed', 'renewal', 'finger', 'plans', 'nicety', 'helpless', 'army', 'genteel', 'chambers', 'Temple', 'circles', 'gigs', 'abstruse', 'study', 'navy', 'dashing', 'idleness', 'advantageous', 'honourable', 'solicitations', 'promoted', 'professions', 'trades', 'Columella', 'accent', 'effusion', 'fascinating', 'ere', 'wasted', 'discontent', 'defy', 'desponding', 'subdue', 'judiciously', 'augment', 'advancement', 'busily', 'meritorious', 'faulty', 'ones', 'WERE', 'loving', 'respecting', 'mortifying', 'shutting', 'lying', 'indulge', 'meditation', 'abundance', 'forbidden', 'inevitably', 'chained', 'engross', 'closing', 'knocking', 'stepping', 'turf', 'casement', 'space', 'Hush', 'hallooing', 'drinking', 'plump', 'prepossessing', 'willingness', 'briefly', 'surveying', 'staid', 'endowed', 'meantime', 'ceasing', 'nodding', 'significantly', 'pointing', 'expects', 'endure', 'exerted', 'ushered', 'stared', 'asleep', 'examining', 'pitched', 'ceiling', 'oftener', 'ate', '20', 'affectionately', 'seating', 'Westons', 'ours', 'Hanover', 'chaperon', 'bowing', 'complaining', 'horrid', 'disgusting', 'Dullness', 'devil', 'billiard', 'dropt', 'sly', 'Much', 'vile', 'Gilberts', 'contradict', 'rude', 'whip', 'cross', 'insolence', 'scolded', 'abused', 'genuinely', 'unaffectedly', 'soured', 'bias', 'silly', 'blunder', 'contemptuous', 'succeed', 'establishing', 'superiority', 'Will', 'applying', 'sneer', 'refuse', 'resolutely', 'canvassing', 'election', 'fatiguing', 'assented', 'hardship', 'Parliament', 'directed', 'M', 'P', 'declares', 'irrational', 'palm', 'abuses', 'languages', 'decline', 'changing', 'gathered', 'confirmation', 'inquiring', 'intimately', ';--\"', 'Somehow', 'Weymouth', 'unluckily', 'neighbour', 'Monday', 'street', 'Surely', '.\\'\"', 'praises', 'wherever', 'objected', '21', 'entertain', 'simply', 'unsuitableness', 'existed', 'zeal', 'invite', 'fashionable', 'resigned', 'philosophy', 'contenting', 'reprimand', 'ungenteel', 'unfashionable', 'doatingly', 'enthusiastic', 'sweetest', 'guests', 'Benevolent', 'philanthropic', 'creatures', 'coach', 'playthings', 'obtain', 'anew', 'boasting', 'consequent', 'introduction', 'sharp', 'smartness', 'actual', 'judicious', 'extolling', 'courting', 'humouring', 'whims', 'importunate', 'patterns', 'foibles', 'rapacious', 'human', 'beings', 'credulous', 'exorbitant', 'swallow', 'endurance', 'offspring', 'viewed', 'encroachments', 'mischievous', 'sashes', 'untied', 'ears', 'bags', 'searched', 'knives', 'stolen', 'reciprocal', 'suggested', 'composedly', 'claiming', 'monkey', 'pinching', 'fondly', 'playful', 'William', 'Annamaria', 'caressing', 'bestowing', 'embraces', 'scratching', 'pattern', 'screams', 'outdone', 'professedly', 'consternation', 'surpass', 'critical', 'emergency', 'assuage', 'agonies', 'sufferer', 'lap', 'kisses', 'bathed', 'lavender', 'knees', 'mouth', 'stuffed', 'sugar', 'plums', 'screamed', 'sobbed', 'lustily', 'kicked', 'brothers', 'soothings', 'ineffectual', 'remembering', 'apricot', 'marmalade', 'successfully', 'bruised', 'temple', 'remedy', 'proposed', 'scratch', 'quest', 'medicine', 'entreated', 'sad', 'reality', 'trivial', 'task', 'lies', 'eclat', 'doat', 'distractedly', 'outside', 'freedom', 'estimate', 'm', 'lief', 'nasty', 'Rose', 'clerk', 'Simpson', 'specimen', 'blinded', 'shrewd', 'youngest', 'artlessness', 'niggardly', 'proportion', 'dealt', 'lot', 'consists', '\"\\'', 'Twill', 'luck', 'proclaiming', 'somewhat', 'newer', 'conjectural', 'significancy', 'nods', 'winks', 'productive', 'countless', 'wittiest', 'alphabet', 'alluded', 'impertinently', 'inquisitiveness', 'sport', 'audible', 'assertions', 'petty', 'unavailing', '22', 'toleration', 'vulgarity', 'advances', 'striving', 'amusing', 'powers', 'aid', 'illiterate', 'mental', 'rectitude', 'assiduities', 'flatteries', 'insincerity', 'instruction', 'equality', 'toward', 'deference', 'valueless', 'personally', 'cautious', 'enquiring', 'curious', 'trusting', 'manage', 'MAY', 'amiably', 'bashful', 'heavens', 'ROBERT', 'fixing', 'Astonishment', 'disbelief', 'divine', 'varied', 'firm', 'incredulity', 'hysterical', 'swoon', 'faithfully', 'cautiously', 'date', 'pupil', 'revived', 'Engaged', 'surely', 'depends', 'perplexity', 'OCCASION', 'suspecting', 'heaven', 'puts', 'painting', 'hasty', 'detecting', 'likeness', 'paces', 'keeping', 'exceeding', 'imagining', 'hoping', 'Besides', 'tongue', 'lest', 'alive', 'uncertainty', 'seldom', 'wiping', 'break', 'Pardon', 'provide', 'sometime', 'feelingly', 'veracity', 'names', 'writes', 'carelessly', 'sheet', 'obtained', 'subsist', 'authorised', 'struggled', 'Writing', 'separations', 'confounded', 'editions', 'Volume', 'ends', '.]', '23', 'answerable', 'inventing', 'asserted', 'proofs', 'indisputable', 'alarming', 'dissatisfaction', 'prospects', 'evidence', 'condemning', 'unfairly', 'dupe', 'considerations', 'deceiving', 'feigned', 'illusion', 'softener', 'blamable', 'defended', 'pitiable', 'deprived', 'regain', 'tranquillity', 'infatuation', 'rationally', 'defects', 'frivolous', 'supposition', 'alienated', 'Supported', 'consoled', 'forfeit', 'guard', 'extinction', 'mourning', 'obstacles', 'divide', 'perfections', 'entrusted', 'aggravation', 'condemnation', 'flow', 'counsel', 'unshaken', 'poignant', 'renewing', 'venturing', 'confessedly', 'evidently', 'joking', 'disclosure', 'honesty', 'combat', 'unwounded', 'mistrust', 'joining', 'chat', 'eating', 'consequences', 'meetings', 'affording', 'charity', 'club', 'foresaw', 'fairer', 'permission', 'compliant', 'seclude', 'happily', 'frightful', 'novelty', 'accompanied', 'impossibility', 'entertained', 'finish', 'filigree', 'candlelight', 'disappoint', 'angel', 'supper', 'bell', 'candles', 'reseated', 'alacrity', 'infer', 'spoilt', 'rubber', 'Casino', 'Ladyship', 'touched', 'tuned', 'smooth', 'toned', 'rolling', 'papers', 'labour', 'singly', 'terrible', 'joyfully', 'profited', 'proposals', 'condescend', 'practise', 'rivals', 'harmony', 'forwarding', 'wrapped', '24', 'undeserving', 'apologize', 'ice', 'somehow', 'Offended', 'truest', 'quarrelling', 'relieve', 'madness', 'robbing', 'deprive', 'failed', 'guarding', 'test', 'trial', 'unpardonable', 'lowness', 'observant', 'sighted', 'impose', 'tediousness', 'involve', 'owning', 'headstrong', 'frightens', 'measures', 'disinterestedness', 'coxcomb', 'coxcombs', 'modestest', 'prettiest', 'likes', 'modest', 'bit', 'lip', 'angrily', 'lower', 'powerful', 'protection', 'concerto', 'prefer', 'incumbent', 'dissolving', 'beset', 'agitated', 'solemnity', 'effectually', 'frighten', 'dividing', 'Tis', 'pique', 'laying', 'stress', 'biased', 'partly', 'duration', 'accustomary', 'brightened', 'unlucky', 'confidential', 'reluctance', 'induce', 'weary', 'introducing', 'confidante', 'conversations', 'lengthened', 'implied', 'fulfill', 'celebration', 'festival', 'dinners', 'proclaim', '25', 'spending', 'portion', 'habitation', 'traded', 'streets', 'Portman', 'Square', 'approach', 'thither', 'unexpectedly', 'Misses', 'accompany', 'alleged', 'refusal', 've', 'shan', 'Betty', 'merrier', 'ways', 'poking', 'strike', 'insured', 'referred', 'cautiousness', 'disregard', 'wounding', 'irritable', 'foresee', 'accrue', 'quietly', 'bedrooms', 'SHOULD', 'motherly', 'faults', 'estranged', 'obviating', 'impediment', 'formidable', 'obstacle', 'separately', 'scruples', 'unpleasantness', 'persisted', 'sole', 'guidance', 'abandoned', 'mercy', 'reconciled', 'abridgement', 'BOTH', 'nonsensical', 'anticipate', 'sources', 'weaken', 'revealed', 'attack', 'lifted', 'prevailing', 'acquisition', 'putting', 'counteracted', 'unconcern', 'exhilarated', 'elevated', 'perturbation', 'restorative', 'score', 'eternal', 'station', '26', 'unsuited', 'overlooked', 'rapture', 'beamed', 'blank', 'cheerless', 'gladly', 'zealous', 'ascertain', 'unfavourable', 'banish', 'complaisance', 'companionableness', 'wrapt', 'exclamation', 'exclusively', 'addressed', 'solicitous', 'choose', 'inn', 'extort', 'preferring', 'salmon', 'cod', 'boiled', 'fowls', 'veal', 'cutlets', 'released', 'luxury', 'handsomely', 'mantelpiece', 'silks', 'mysteriously', 'sealed', 'W', 'ringing', 'footman', 'conveyed', 'penny', 'flutter', 'rap', 'neighbouring', 'starting', 'seconds', 'ecstasy', 'exclaiming', 'unnoticed', 'demanded', 'fatigues', 'decently', 'caused', 'Cartwright', 'bee', 'conjure', 'commissioned', 'somewhere', 'secrets', 'mildness', 'thoughtful', 'agreeing', 'concerning', 'purchases', 'Wherever', 'abstracted', 'occupied', 'Restless', 'dawdled', 'indecision', 'flew', 'sorrowful', 'parcels', 'negative', 'porter', 'permitting', 'mysterious', 'interference', 'appearances', 'represent', 'strongest', 'whist', 'backwards', 'forwards', '27', 'holds', 'souls', 'Frosts', 'severity', 'extreme', 'nay', 'freeze', 'tonight', 'Mary', 'privacy', 'eluded', 'watchfulness', 'frost', 'variations', 'colder', 'muff', 'afternoon', 'persevered', 'symptoms', 'excepting', 'city', 'Pleased', 'compound', 'amuse', 'derived', 'occurrence', 'strengthening', 'grieved', 'precious', 'unfit', 'Me', 'aloud', 'requesting', 'Business', 'appointment', 'indisposed', 'contrived', 'collect', 'ball', 'unpremeditated', 'allowable', 'reputation', 'risking', 'nine', 'violins', 'collation', 'recognition', 'nodded', 'sauntered', 'Invited', 'Impatient', 'awakening', 'delayed', 'application', 'urging', 'plea', 'demand', 'foretold', 'hated', 'impatiently', 'unwell', 'disclosing', '-?', 'remains', 'debated', 'liable', 'shield', 'imaginable', 'confirm', '28', 'dispirited', 'stirring', 'altering', 'attitude', 'destination', 'string', 'alighted', 'landing', 'splendidly', 'lit', 'insufferably', 'tribute', 'curtsying', 'permitted', 'mingle', 'crowd', 'heat', 'necessarily', 'Cassino', 'moving', 'chairs', 'unobserved', 'betray', 'feature', 'approached', 'inquired', 'shake', 'During', 'struggling', 'Tuesday', 'regretted', 'notes', 'wildest', 'dreadfully', 'reviving', 'Go', 'peace', 'Wait', 'incessantly', 'exclamations', 'Scarcely', 'hartshorn', 'undressed', 'subsisted', 'feed', 'misconduct', 'unprincipled', 'sporting', 'investigation', 'Absence', 'weakened', 'pangs', 'await', 'deepest', 'ESTEEM', 'embitter', 'uniting', 'heighten', 'final', 'irreconcilable', 'rupture', '29', 'gloomy', 'dressed', 'kneeling', 'seats', 'permit', 'sobs', 'considerate', '-?\"', 'desperate', 'bursts', 'intervals', 'pen', 'sooth', 'tranquilize', 'irritability', 'requiring', 'wander', 'avoiding', 'pitying', 'meal', 'paleness', 'sickness', 'tremour', 'liking', 'measuring', 'lengths', 'worsted', 'rug', 'disappeared', 'desperately', 'grievous', 'imply', 'wedding', 'spreading', 'report', 'choked', 'joint', 'covering', 'follows', 'DEAR', 'MADAM', 'acknowledgments', 'unintentional', 'guarded', 'obey', 'commands', 'obligingly', 'Madam', 'obedient', 'humble', 'JOHN', 'WILLOUGHBY', 'impudently', 'release', 'insult', 'proclaimed', 'writer', 'hardened', 'villainy', 'perusal', 'served', 'bitter', 'deeper', 'disengagement', 'worst', 'irremediable', 'evils', 'deliverance', 'contents', 'depravity', 'dictate', 'unread', 'unreasonably', 'chariot', 'Determined', 'contributing', 'floor', 'giddy', 'food', 'nights', 'slept', 'aching', 'stomach', 'faintness', 'glass', 'COULD', 'exclaim', 'anguish', 'torrent', 'unresisted', 'Exert', 'kill', 'Think', 'hate', 'Happy', 'oh', 'solemnly', 'wildly', 'Mine', 'comforts', 'Engagement', 'hither', 'adieu', 'D', \"',\", 'earlier', 'Again', 'repulsed', 'insulting', 'justification', 'misinformed', 'acted', 'grieve', 'insincere', 'acquit', 'hazarded', 'unsolicited', 'warranted', 'condemned', 'strictest', 'covenant', 'blackest', 'art', '),', 'supplication', 'firmer', 'cruelly', 'Dearest', 'instigated', 'leagued', 'whoever', 'barbarous', 'bely', 'contend', 'Whoever', 'detestably', 'enemy', 'malignant', 'nobly', 'innocence', 'supports', 'laudable', 'resists', 'malevolence', 'discerning', 'posts', 'shuddering', 'Cruel', 'clearing', 'repeating', \"'--\", 'barbarously', 'insolent', 'premeditated', 'female', 'ensued', 'regards', 'posture', 'constrained', 'drops', '30', 'Taylor', 'abominably', 'plague', 'admirers', 'cry', 'Parrys', 'Sandersons', 'tiptoe', 'bustle', 'governed', 'adjusting', 'summoned', 'abstraction', 'distressing', 'civilities', 'fondness', 'holidays', 'tempted', 'amused', 'cure', 'sweetmeats', 'olives', 'Misery', 'sign', 'grieves', 'finishing', 'cherries', 'oddest', '!--\"', 'Fifty', 'stylish', 'aunt', 'Biddy', 'Henshawe', 'wealthy', 'pieces', 'promises', 'fly', 'grows', 'reform', 'Walker', 'hinted', 'Ellison', 'Ellisons', 'guardians', 'moan', 'hates', 'wants', 'Let', 'joked', 'naming', 'allusion', 'blown', 'cases', 'Law', 'defend', 'House', 'enforcement', 'hilarity', 'Mind', 'Mid', 'chuckle', 'debt', 'drawback', 'prenticed', 'fashioned', 'mulberry', 'dove', 'cote', 'stew', 'ponds', 'canal', 'turnpike', 'yew', 'arbour', 'butcher', 'prettier', 'meat', 'shoulder', 'mutton', 'drives', 'compliance', 'pillow', 'repaired', 'Constantia', 'tasted', 'Whenever', 'colicky', 'gout', 'compromise', 'swallowed', 'reflected', 'healing', 'presided', 'whispered', 'hesitatingly', 'KNEW', 'elucidation', 'unfolded', 'unfathomable', 'stationer', 'Pall', 'Mall', 'preparations', 'identify', 'stayed', 'guardian', 'proportionately', 'Till', 'hardness', 'instantaneous', 'bloom', '31', 'awoke', 'closed', 'impetuous', 'innocent', 'acquitting', 'uniform', 'gossip', 'refinement', 'delicacies', 'polished', 'Thus', 'weakness', 'impulse', 'goodwill', 'outstretched', 'contrition', 'explanatory', 'rushing', 'inforce', 'unwelcome', 'streamed', 'passionate', 'withdrew', 'referring', 'page', 'confident', 'relying', 'intreat', 'positively', 'refusing', 'directions', 'nerves', 'HAD', 'retreating', 'error', 'esteeming', 'lightly', 'salutation', 'desiring', 'VERY', 'useful', 'tending', 'HERS', 'awkward', 'narrator', 'SHALL', 'sighing', 'heavily', 'diffuse', ')--', 'resembling', 'orphan', 'infancy', 'guardianship', 'ages', 'playfellows', 'judging', 'fervent', 'encumbered', 'blindly', 'relate', 'eloping', 'Scotland', 'treachery', 'lament', 'pleasures', 'inexperienced', 'restrain', 'regiment', 'divorce', 'threw', 'gloom', 'arrive', 'search', 'fruitless', 'trace', 'seducer', 'sin', 'adequate', 'extravagance', 'Regard', 'fallen', 'spunging', 'faded', 'acute', 'blooming', 'healthful', 'doted', 'endured', 'beholding', 'stage', 'consumption', 'Life', 'lodgings', 'disgraced', 'fates', 'untouched', 'fourteen', 'handle', 'concise', 'discharged', 'fourteenth', 'residing', 'imprudently', 'Bath', 'obstinate', 'clue', 'ranging', 'unconcerned', 'forwarded', 'incivility', 'availed', 'Would', 'smiles', 'seduced', 'creditable', 'relieved', 'dissipated', 'Knowing', 'irresolute', 'interfering', 'reclaim', 'dishonorable', 'usage', 'doubtless', 'compares', 'pictures', 'tormented', 'Concern', 'strengthen', 'communicating', 'afflictions', 'recital', 'endeavors', 'irritates', 'unworthiness', 'easier', 'confessed', 'reluctantly', 'punish', 'sighed', 'soldier', 'presumed', 'delivery', 'Recollecting', '32', 'submissive', 'vindication', 'irritated', 'seduction', 'desertion', 'ONCE', 'preyed', 'brooding', 'answering', 'Long', 'Bad', 'humiliating', 'origin', 'Against', 'individual', 'afflicting', 'shorten', 'comprise', 'occupations', 'cheat', 'spurned', 'Design', 'negligence', 'retirement', 'foreseeing', 'alleviation', 'doomed', 'comforted', 'militate', 'carefulness', 'reaped', 'scoundrel', 'dog', 'Folly', 'puppies', 'drop', 'coachmaker', 'painter', 'portrait', 'warehouse', 'clamorous', 'exciting', 'circle', 'qualification', 'worried', 'officious', 'condolence', 'vent', 'dignity', 'assemblies', 'abundantly', 'earned', 'soften', 'humiliations', 'oblige', 'THESE', 'augmented', 'Midsummer', 'Michaelmas', 'honours', 'Early', 'receipt', 'informing', 'Willoughbys', 'Holburn', 'grand', 'Streets', 'gracious', 'overpowering', 'STILL', 'emphasis', 'awhile', 'TOLD', 'MONTH', 'amazingly', 'WORD', 'exultation', 'Dr', 'Davies', 'd', 'genteelly', 'shillings', 'affectedly', 'simpering', 'laughs', 'crossing', 'cessation', 'hostile', 'interposed', 'silenced', 'plagued', 'US', 'gown', 'governing', '33', 'yielded', 'expressly', 'conditioned', 'Sackville', 'negotiation', 'jewels', 'transacted', 'ascending', 'tend', 'counter', 'quickest', 'quicker', 'correctness', 'shape', 'ornaments', 'inventive', 'comprised', 'broad', 'stares', 'imprint', 'sterling', 'insignificance', 'puppyism', 'deciding', 'horrors', 'inspection', 'bedroom', 'ivory', 'pearls', 'named', 'gloves', 'leisurely', 'conceit', 'respectful', 'beasts', 'Exchange', 'bespeak', 'seal', 'Excellent', 'serve', 'duly', 'pretence', 'eyed', 'narrowly', 'pitch', 'TWICE', 'secures', 'undecided', 'hang', 'encouragements', 'prior', 'insurmountable', 'universal', 'ALL', 'PARTIES', 'truly', 'vouchsafe', 'remarkable', 'Hon', 'bank', 'assent', 'enclosure', 'Common', 'drain', 'Kingham', 'Farm', 'Gibson', 'adjoining', 'HAS', 'More', 'intrinsically', 'stocks', 'banker', 'Other', 'bequeathed', 'Far', 'repine', 'undoubted', 'flower', 'knoll', 'walnut', 'slope', 'thorns', 'patches', 'brow', 'provocation', 'Having', 'buying', 'pair', 'rings', 'cheerfuller', 'dies', 'descend', 'Few', 'saves', 'Whereas', 'conscientious', 'kinder', 'prosperity', 'thin', 'destroys', 'likelihood', 'relinquished', 'promoting', 'compunction', 'easiest', 'atoning', 'Abundance', 'prepossessed', 'associate', '34', 'rewarded', 'mutually', 'sympathised', 'demeanor', 'suit', 'uncordial', 'sedulously', 'deed', 'flowed', 'detection', 'prodigiously', 'powerfully', 'pleasantly', 'nieces', 'apprehensions', 'inflicting', 'Pity', 'behold', 'utter', 'irrepressible', 'envy', 'upright', 'sourness', 'aspect', 'sallow', 'contraction', 'rescued', 'proportioned', 'graciousness', 'mortify', 'pointedly', 'misapplied', 'despising', 'honorably', 'teazed', 'bespoke', 'Mistress', 'Master', 'indigence', 'laboured', 'disqualifications', 'Want', 'politics', 'inclosing', 'coffee', 'comparative', 'heights', 'tallest', 'politely', 'grandmothers', 'descendant', 'enforcing', 'declaring', 'screens', 'mounted', 'ornamented', 'officiously', 'handed', 'disclaiming', 'connoisseurship', 'considerately', 'Hum', 'paint', 'delightfully', 'beautifully', 'Beautifully', 'provoked', 'stiffly', 'retort', 'philippic', 'audacity', 'foretell', 'distresses', 'wounded', 'horror', 'arm', 'hiding', 'intelligent', 'salts', 'enraged', 'author', 'retained', 'constitution', 'BEEN', '35', 'undesirable', 'meanness', 'prejudice', 'perplexed', 'retarded', 'OWN', 'creation', 'caprice', 'rejoice', 'OUGHT', 'ELINOR', 'derive', 'affable', 'dreaded', 'affability', 'Civil', 'hauteur', 'spends', 'courtesy', 'advance', 'unpleasantest', 'LOOK', 'deter', 're', 'courage', 'exceeded', 'rare', 'demure', 'contribution', 'volunteer', 'heroically', 'fetching', 'loitered', 'witnesses', 'conciliate', 'benignant', 'muttered', 'admirable', 'relatives', 'revenge', 'sting', 'scrupulous', 'performing', 'thirds', 'auditors', 'unexhilarating', 'Going', 'outstaid', 'teazing', 'longest', 'steadily', 'tricked', 'expose', '36', 'Within', 'newspapers', 'Esq', 'heir', 'paragraph', 'temporary', 'influenced', 'intruding', 'THEIR', 'monopolize', 'satirical', 'administer', 'discomposed', 'reconcile', 'conciliation', 'lighter', 'anymore', 'jealousies', 'discontents', 'unsuspected', 'congratulated', 'detail', 'unfatherly', 'infants', 'baby', 'proposition', 'befell', 'imaginations', 'outrun', 'misconstruction', 'mode', 'mechanically', 'toilet', 'price', 'gowns', 'washing', 'per', 'scrutinies', 'douceur', 'undergoing', 'shoes', 'punctuality', 'preceded', 'coachman', 'performers', 'unrestrained', 'harp', 'violoncello', 'excursive', 'glances', 'group', 'lecture', 'familiarly', 'stroke', 'emptiness', 'lamenting', 'GAUCHERIE', 'mixing', 'candidly', 'generously', 'tuition', 'Westminster', 'reside', 'surprising', 'hearty', 'protest', 'Courtland', 'Bonomi', 'accommodations', 'Elliott', 'Dartford', \"?'\", 'managed', 'tables', 'library', 'refreshments', 'saloon', 'measured', 'precisely', 'spacious', 'Dennison', 'requisite', 'enfranchisement', 'shews', 'humility', 'vigor', 'favourites', 'pacified', 'slyly', 'needless', 'cherishing', 'gratefully', 'precise', 'shown', 'uncommon', 'vouchsafed', 'malice', 'entry', 'strengthened', 'needle', 'emigrant', 'edtions', 'II', '37', 'habits', 'resume', 'fourth', 'resettled', 'wonderful', 'fuss', 'fretted', 'pimples', 'gum', \"--'\", 'stepped', 'smirked', 'simpered', \"!'\", 'turns', 'conjurer', 'popt', \";'\", 'carpet', 'steward', 'dreaming', 'fury', 'fainting', 'bitterly', 'packed', 'uproar', 'hears', 'scornfully', 'bigger', 'housemaid', 'impartiality', 'undeceiving', ',-', 'perform', 'dwell', 'practised', 'practicable', 'narration', 'belonged', 'hearer', 'comforter', 'unamiable', 'mankind', 'regularity', 'soothe', 'alarms', 'November', 'confirmed', 'undeceive', 'essential', 'harbour', 'bewitching', 'enjoying', 'cries', 'caresses', 'frame', 'obtaining', 'bitterness', 'concessions', 'reparation', 'discreet', 'unchanging', 'dissented', 'spasm', 'throat', 'heroism', 'awful', 'complicated', 'storm', 'weathered', 'apprehended', 'ingratitude', 'benevolence', 'harmless', 'planning', 'ANY', 'prepossession', 'THERE', 'avail', 'Duty', 'Norfolk', 'tax', 'represented', 'penury', 'protested', 'advancing', 'clapped', 'Gracious', 'obstinacy', 'forbore', 'blunt', 'rascal', 'deserves', 'disrespectfully', 'deserving', 'throughout', 'dignified', 'apprehension', 'wrung', 'braving', 'threats', 'Born', 'deplorable', 'taverns', 'forbear', 'conditions', 'lawyer', 'Everybody', 'galling', 'vehemence', 'critique', '38', 'disobedient', 'gloried', 'forgave', 'offences', 'penitence', 'Sunday', 'Kensington', 'Gardens', 'March', 'accosted', 'Get', 'Clarke', 'WITHOUT', 'rage', 'vowed', 'trim', 'bonnet', 'hat', 'feather', 'pink', 'ribbons', 'IS', 'plaguing', 'triumphantly', 'reports', 'spread', 'Godby', 'Sparks', 'Richard', 'Wednesday', 'Friday', 'Saturday', 'Once', 'curacy', 'shift', 'oath', 'la', 'below', 'Richardson', 'interrupt', 'silk', 'stockings', 'Richardsons', 'interrupting', 'La', 'Laughing', '.)--', 'Martha', 'Sharpe', 'bones', 'closet', 'chimney', 'uppermost', 'lodging', '--,', 'huswifes', 'Bishop', 'ordained', 'giggling', '!\\'\"', 'bout', 'kindly', 'spotted', 'muslin', 'torn', 'compliments', 'claimed', 'foreplanned', 'preferment', 'ay', 'em', 'furnishing', 'Building', 'troubles', 'apologies', 'trials', 'persecutions', 'thankfully', 'bright', 'twould', 'reminds', 'conclude', 'respectfully', 'comments', 'prettily', '39', 'effected', 'hostess', 'resisted', 'detaining', 'Easter', 'auspicious', 'gently', '...\"', 'argue', 'overcoming', 'Bristol', 'concurrence', 'statement', ';\"--', 'gape', 'cats', 'vigorous', 'sketch', 'ennui', 'expeditiously', 'honorable', 'intent', 'pursue', 'Still', 'lesson', 'apologising', 'badness', 'etiquette', 'motion', 'commended', 'Astonished', 'unlover', 'hinder', 'ejaculation', 'older', 'conference', 'froid', 'suitor', 'persevering', 'rightly', '?--\"', 'impolitic', 'vacant', 'circumstanced', 'nonsense', 'rectory', '200', 'L', 'annum', 'presenting', 'minor', 'undertake', 'fortunately', 'presentation', 'patronage', 'unforeseen', 'differently', 'principal', 'misunderstood', 'worded', 'arisen', '40', 'sagaciously', 'withdrawn', 'TRIED', 'sensibly', 'Opportunity', 'Holborn', 'ordination', 'ho', '.)', 'goodby', 'deliberating', 'band', 'congratulating', 'preferable', 'Whether', 'determining', 'intruded', 'recovering', 'charged', 'breathing', 'faster', 'Allow', 'establish', 'LOOKED', 'unexpected', 'unthought', 'gathering', 'solicitation', 'Truth', 'benefactress', 'contributed', 'recently', 'respectability', 'lodges', 'St', 'James', 'befall', 'anticipation', 'reconsider', 'reverted', 'Really', 'Sure', 'marries', 'exchanged', 'forfeiting', 'ebullition', 'beds', 'ninny', 'Parsonage', 'sha', 'nt', '41', 'congratulations', 'worship', 'saint', 'tithes', 'cows', 'poultry', 'verbal', 'disliked', 'tete', 'assuring', ':--\"', 'livings', 'fetch', 'vacate', 'improvident', 'bears', 'refrain', 'impoverished', 'befalls', 'weak', 'retain', 'reasoning', 'discarded', 'accelerate', 'S', 'decisive', 'Choice', 'intents', 'purposes', 'gratify', 'agitate', 'fill', 'uninformed', 'unfair', 'division', 'confirming', 'inquisitive', 'immoderately', 'clergyman', 'fanciful', 'imagery', 'prayers', 'surplice', 'publishing', 'banns', 'Brown', 'immovable', 'recalled', 'considerably', 'genuine', 'born', 'kingdom', 'intend', 'frantic', 'Just', 'captivate', 'interfere', 'hit', 'disapproving', 'starved', 'enamoured', 'accents', '42', 'completed', 'intercourse', 'promptitude', 'April', 'respective', 'homes', 'extinguished', 'shedding', 'lingering', 'persecution', 'unseen', 'tranquility', 'restoring', 'prohibited', 'Somerset', 'forenoon', 'sloping', 'lawn', 'shrubbery', 'closer', 'gravel', 'plantation', 'dotted', 'fir', 'mountain', 'ash', 'acacia', 'thick', 'interspersed', 'Lombardy', 'poplars', 'swelling', 'eighty', 'stealing', 'shrubberies', 'eminence', 'Grecian', 'wide', 'tract', 'east', 'ridge', 'horizon', 'invaluable', 'circuit', 'luxurious', 'premises', 'whiled', 'lounging', 'gardener', 'blights', 'dawdling', 'plants', 'unwarily', 'nipped', 'yard', 'dairy', 'hens', 'forsaking', 'nests', 'fox', 'decrease', 'brood', 'merriment', 'dry', 'twilight', 'deterred', 'Reading', 'knack', 'heartiness', 'atoned', 'conceited', 'enlargement', 'reduced', 'aptitude', 'traits', 'idled', 'mornings', 'billiards', 'Epicurism', 'disinterested', 'confidant', 'suggestion', 'observer', 'unexpressed', 'delighful', 'wildness', 'oldest', 'grass', 'wettest', 'trifled', 'ailments', 'Prescriptions', 'poured', 'quarters', 'feverish', 'cough', 'sore', 'simplest', 'remedies', '43', 'shivering', 'sofa', 'nursing', 'medicines', 'efficacy', 'persisting', 'apothecary', 'examined', 'restore', 'disorder', 'putrid', 'allowing', 'infection', 'infant', 'importunity', 'withstood', 'helpmate', 'malady', 'lamentation', 'acceptably', 'piquet', 'affect', 'demur', 'seconded', 'emergence', 'owners', 'boldly', 'seizure', 'forebodings', 'render', 'admission', 'expel', 'anticipations', 'auspiciously', 'administering', 'cordials', 'prescribed', 'slumber', 'beneficial', 'unusually', 'nurses', 'recreating', 'unremitting', 'inarticulate', 'sounds', 'awakened', 'accidental', 'assisting', 'despatching', 'messenger', 'effecting', 'rung', 'despondence', 'obviated', 'pre', 'resistance', 'guide', 'summons', 'lessened', 'meanwhile', 'exactness', 'Hour', 'sleepless', 'delirium', 'tortured', 'incoherently', 'pang', 'pictured', 'arriving', 'darling', 'lesser', 'attendant', 'reproaches', 'punctual', 'unabated', 'stupor', 'noon', 'image', 'scrupled', 'reasonableness', 'bury', 'foregoing', 'revival', 'conning', 'injunction', 'Hope', 'Half', 'blessed', 'Others', 'breath', 'signs', 'gaze', 'Anxiety', 'felicitations', 'surpassing', 'unfeigned', 'unequivocal', 'doting', 'expand', 'demonstrations', 'breast', 'calming', 'enfeebled', 'supplying', 'succour', 'relapse', 'remind', 'slow', 'progress', 'sweetly', 'refreshment', 'capability', 'retired', 'stormy', 'roared', 'beat', 'blast', 'travellers', 'store', 'ALMOST', 'shutter', 'flaring', 'lamps', 'discern', 'vestibule', 'inner', 'lobby', 'rushed', '44', 'obeyed', 'Sit', 'dispatch', 'opposite', 'abruptness', 'AM', 'mood', 'glow', 'overspreading', 'knave', 'fool', 'liquor', 'strangeness', 'intelligible', 'drunk', 'pint', 'beef', 'Marlborough', 'nuncheon', 'intoxication', 'blockhead', 'LONG', 'accounted', 'diabolical', 'Careless', 'insist', 'associating', 'debts', 'reprobate', 'injury', 'sacrificed', 'avarice', 'blameless', 'addresses', 'improperly', 'expatiate', 'scrupling', 'circumspection', 'contemptible', 'interim', 'heightened', 'hardening', 'impartial', 'libertine', 'passions', 'creating', '--(', '?)', 'infinitely', 'wanton', 'pursuing', 'extremest', 'omitted', 'taxed', 'purity', 'morality', 'discontented', 'formally', 'awaited', 'deliver', 'debate', 'undervalued', 'magnanimity', 'reproachfully', 'dissembling', 'reliance', 'gives', 'grudge', 'rascally', 'tediously', 'soothing', 'infamous', 'metaphor', 'forbid', 'dagger', 'thunderbolt', 'Thunderbolts', 'daggers', 'undergone', 'changes', 'Relate', 'separated', 'remorse', 'dissipation', 'villain', 'chusing', 'shrugging', 'silencing', \".'--\", 'infamously', 'retreat', 'preserve', 'wiser', 'cool', 'Watched', 'Lodging', 'blundered', 'inducement', 'artless', 'confiding', 'hateful', 'Those', 'holding', 'Sophia', 'hue', 'haste', 'breakfasting', 'vague', 'Affecting', 'playfulness', 'impudence', 'appeased', 'feminine', 'servilely', 'copying', 'sentences', 'original', 'diction', 'Preparation', 'couched', 'bluster', 'blackguard', 'reasonings', 'copied', 'relics', 'pocketbook', 'hoarded', 'kiss', 'ingratiating', 'virulence', 'memento', 'slightingly', 'atonement', 'wicked', 'inflicted', 'lightened', 'spontaneous', 'inconstant', 'Drury', 'Lane', 'vex', 'horridly', 'bluntly', 'imminent', 'puppy', 'scorning', 'hating', 'latest', 'projects', 'irreparable', 'Extravagance', 'Vanity', 'Each', 'leading', 'outwardly', 'incurable', 'thence', 'letting', 'forgetting', 'rub', 'Domestic', 'Were', '45', 'widely', 'differing', 'worthless', 'commiseration', 'attraction', 'awaking', 'refreshed', 'Short', 'Eager', 'save', 'hall', 'joyful', 'embraced', 'bliss', 'stake', 'wearing', 'irritation', 'blamed', 'harshly', 'widower', 'reproved', 'errand', 'mend', 'temperate', 'exuberance', 'imparted', 'unawares', 'undesignedly', 'equalled', 'embellishments', 'warning', 'worthiest', 'acquired', 'Time', 'rooted', 'solidly', 'unstudied', 'accordant', 'liveliness', 'artificial', 'dissent', '46', 'weakening', 'smoothly', 'pour', 'pale', 'recurrence', 'reclining', 'watchful', 'dawned', 'determinate', 'hospitable', 'redeem', 'bidding', 'dullness', 'bodily', 'eventually', 'field', 'unobtrusiveness', 'entitled', 'subsequent', 'traced', 'accustom', 'rested', 'opera', 'containing', 'duets', 'bearing', 'keys', 'feebleness', 'abatement', 'anticipating', 'edge', 'Cross', 'Abbeyland', 'ruins', 'Priory', 'foundations', 'resorted', 'production', 'borrow', 'indolence', 'repining', 'virtuous', 'control', 'unfulfilled', 'unsettle', 'Willing', 'appointed', 'invalid', 'genial', 'untried', 'mound', 'ALWAYS', 'treasured', 'doubly', 'shamefully', 'unguarded', 'fickle', 'postponing', 'crept', 'compare', 'autumn', 'destruction', 'fretful', 'murmurings', 'failing', 'repaid', 'wronged', 'imitate', 'restraints', 'deserted', 'professed', 'unbounded', 'reproving', 'adhering', 'worry', 'solely', 'henceforth', '>', 'incitement', 'humbled', 'amended', 'regulated', 'religion', 'hazarding', 'listener', 'grounded', 'repentance', 'protestations', 'trembled', 'whiter', 'panting', 'unknowingly', 'closely', 'dreading', 'conjecturing', 'minuteness', 'articulate', 'slowly', '47', 'unmoved', 'unbroken', 'unblemished', 'replace', 'injure', 'interests', 'retailed', 'Reflection', 'sobered', 'deserts', 'facts', 'embellishment', 'astray', 'unquiet', 'unsteady', 'unbiased', 'practices', 'sensitive', 'poorly', 'expensiveness', 'inexperience', 'LESS', 'economy', 'frugality', 'retrenched', 'management', 'abridge', 'enjoyments', 'quivered', 'Selfish', 'ruling', 'finds', 'unembarrassed', 'suffers', 'pecuniary', 'reckons', 'necessitous', 'innumerable', 'Rather', 'fairly', 'crime', 'enumeration', 'unitedly', 'unsubdued', 'studies', 'vigour', 'prosecution', 'tidings', 'voluntary', 'start', 'intuitively', 'disordered', 'stopping', 'New', 'Inn', 'Sally', 'howsever', 'westward', 'bide', 'recognised', 'tablecloth', 'appetites', 'meals', 'dessert', 'similarity', 'hazard', 'representation', 'misled', 'slighter', 'wont', 'inattentive', '48', 'mediation', 'lurking', 'consequently', 'provident', 'conspired', 'contriving', 'manager', 'economical', 'thoughtless', 'indolent', 'utterance', 'footsteps', 'path', 'merited', 'conforming', 'stammered', 'unintelligible', 'shaken', 'retreated', 'dryness', 'affirmative', 'fearing', 'EDWARD', 'doubtingly', 'spoiling', 'sheath', 'cutting', 'echoed', 'unspeakable', 'penetrate', 'lessening', '49', 'Unaccountable', 'experiencing', 'contracted', 'failure', 'exercising', 'commonly', 'swell', 'entanglement', 'flowing', 'weaknesses', 'errors', 'boyish', 'philosophic', 'unconquerable', 'outgrown', 'chosen', 'nominal', 'university', 'unnatural', 'comparisons', 'Considering', 'wrought', 'minds', 'Comparisons', 'justifying', 'compared', 'honourably', 'profiting', 'familiarized', 'sedateness', 'labor', 'incessant', 'Between', 'discussions', 'puzzle', 'worked', 'afterward', 'stupified', 'SIR', 'Being', 'scorn', 'Sincerely', 'wisher', 'LUCY', 'FERRARS', 'burnt', 'Please', 'destroy', 'scrawls', 'comment', 'composition', 'worlds', 'pages', 'substance', 'appropriate', 'bribing', 'disinherited', 'jealousy', 'flourish', 'enlightened', 'disquiet', 'option', 'renounced', 'relent', 'WHAT', 'plead', 'FAITH', 'plighted', 'sacred', 'expediency', 'resented', 'Which', 'ungraciously', 'glebe', 'warmest', 'residue', 'enrich', 'comer', 'calculate', 'disproportion', 'rumour', 'unite', 'nerve', 'thrill', 'transport', 'tale', 'jilting', 'hussy', 'borrowed', 'Burgess', 'crossness', 'strains', 'enormously', 'amiss', 'reconciliation', 'penitent', 'patron', '50', 'fluctuating', 'annihilation', 'resuscitation', 'publication', 'nobleman', 'THREE', 'decree', 'augmenting', 'shuffling', 'excuses', 'completion', 'delays', 'dilatoriness', 'workmen', 'Mansion', 'superintend', 'project', 'invent', 'sweep', 'prophecies', 'jumbled', 'couples', 'pasturage', 'inspect', 'gates', 'Hanger', 'insulted', 'scrape', 'assiduous', 'crowned', 'obstructed', 'privately', 'interviews', 'TIME', 'lingered', 'Instead', 'supplanted', 'tricking', 'acquaintances', 'instigation', 'adopted', 'transgressed', 'unpardoned', 'messages', 'haughty', 'birth', 'intruder', 'continually', 'subsisting', 'disagreements', 'exceed', 'rendering', 'useless', 'policy', 'frequency', 'Precious', 'obligations', 'confederacy', 'observable', 'maxims', 'constitutional', 'safeguard', 'sober', 'submitting', 'patroness', 'halves', 'stating', 'clemency', 'inconsolable', 'fled', 'habitual', 'breed', 'dogs', 'surviving', 'standard', 'ranked', 'disagreement', 'producing', 'THE', 'END']\n"
     ]
    }
   ],
   "source": [
    "print(\"Слова, які зустрічаються менше 5 разів:\", rare_words)"
   ]
  },
  {
   "cell_type": "markdown",
   "id": "cc5ded7c",
   "metadata": {},
   "source": [
    "### 1.2"
   ]
  },
  {
   "cell_type": "code",
   "execution_count": 12,
   "id": "7a528402",
   "metadata": {},
   "outputs": [],
   "source": [
    "import matplotlib.pyplot as plt"
   ]
  },
  {
   "cell_type": "code",
   "execution_count": 13,
   "id": "7ea7c833",
   "metadata": {},
   "outputs": [
    {
     "data": {
      "image/png": "[encoded data removed]",
      "text/plain": [
       "<Figure size 1000x600 with 1 Axes>"
      ]
     },
     "metadata": {},
     "output_type": "display_data"
    }
   ],
   "source": [
    "text2 = nltk.Text(gutenberg.words('austen-sense.txt'))\n",
    "fdist = FreqDist(len(word) for word in text2)\n",
    "\n",
    "plt.figure(figsize=(10, 6))\n",
    "plt.bar(fdist.keys(), fdist.values(), width=0.8, align='center', color='pink', edgecolor='black')\n",
    "plt.xlabel('Довжина слова')\n",
    "plt.ylabel('Частота')\n",
    "plt.title('Відображення довжини слова на частоту вживання')\n",
    "plt.grid(axis='y')\n",
    "plt.show()"
   ]
  },
  {
   "cell_type": "markdown",
   "id": "e59cba48",
   "metadata": {},
   "source": [
    "### 1.3"
   ]
  },
  {
   "cell_type": "code",
   "execution_count": 14,
   "id": "809ceb9b",
   "metadata": {},
   "outputs": [],
   "source": [
    "import re"
   ]
  },
  {
   "cell_type": "code",
   "execution_count": 15,
   "id": "9cd3ebbe",
   "metadata": {},
   "outputs": [],
   "source": [
    "text = nltk.corpus.gutenberg.raw('austen-sense.txt')\n",
    "sentences = nltk.sent_tokenize(text)\n",
    "word_pattern = re.compile(r'\\b\\w+\\b')\n",
    "end_words_list = []\n"
   ]
  },
  {
   "cell_type": "code",
   "execution_count": 16,
   "id": "98748a2b",
   "metadata": {},
   "outputs": [
    {
     "name": "stdout",
     "output_type": "stream",
     "text": [
      "10 найчастіших слів, що зустрічаються в кінці речення:\n",
      "it - 179\n",
      "her - 85\n",
      "him - 81\n",
      "them - 65\n",
      "you - 64\n",
      "me - 51\n",
      "Marianne - 43\n",
      "all - 40\n",
      "sister - 35\n",
      "do - 33\n"
     ]
    }
   ],
   "source": [
    "for sentence in sentences:\n",
    "    words = word_pattern.findall(sentence)\n",
    "    if words:\n",
    "        end_words_list.append(words[-1])\n",
    "\n",
    "frequency_distribution = FreqDist(end_words_list)\n",
    "most_frequent_end_words = frequency_distribution.most_common(10)\n",
    "\n",
    "print(\"10 найчастіших слів, що зустрічаються в кінці речення:\")\n",
    "for word, frequency in most_frequent_end_words:\n",
    "    print(word, \"-\", frequency)\n"
   ]
  },
  {
   "cell_type": "markdown",
   "id": "2c4452fa",
   "metadata": {},
   "source": [
    "## TASK 2"
   ]
  },
  {
   "cell_type": "code",
   "execution_count": 17,
   "id": "9306999f",
   "metadata": {},
   "outputs": [],
   "source": [
    "\n",
    "with open('Golodni_igri.txt', 'r', encoding='utf-8') as f:\n",
    "    raw = f.read()\n",
    "\n",
    "tokens = nltk.word_tokenize(raw)\n",
    "text = nltk.Text(tokens)"
   ]
  },
  {
   "cell_type": "code",
   "execution_count": 18,
   "id": "5d476753",
   "metadata": {},
   "outputs": [
    {
     "name": "stdout",
     "output_type": "stream",
     "text": [
      "Concordance for the word 'ігри'\n",
      "Displaying 25 of 49 matches:\n",
      "Голодні ігри Коллінз Сюзанна ЧАСТИНА 1 ТРИБУТИ РО\n",
      "нива , або нестача їжі , або Голодні ігри . Прим може повторити мої слова деін\n",
      "повторяться ; він запровадив Голодні ігри . Правила Голодних ігор прості . Кож\n",
      "олій змушує людей святкувати Голодні ігри як велику подію — як спортивні змага\n",
      "еремонії , називали імена . Іноді на Ігри зголошувалися добровольці , але здеб\n",
      "тою добре усвідомлювали , що Голодні ігри — не конкурс краси , але ніде правди\n",
      "ею , аж поки не розпочнуться Голодні ігри . На колісниці , запряженій сніжно-б\n",
      " . Але не він один уміє грати в такі ігри . Саме тому я стала навшпиньки й поц\n",
      "їхнього напарника не існувало , наче Ігри вже розпочалися . І я збагнула , що \n",
      "вічки . Хоча коли транслюють Голодні ігри або якісь інші важливі урядові повід\n",
      " поворухнула . Наче дивилася Голодні ігри по телевізору . Я зняла черевики й з\n",
      "слів Цинні . Коли почнуться справжні Ігри , це явно не зіграє нам на руку . І \n",
      "минулого року хлопчина , який виграв Ігри , отримав за показовий виступ усього\n",
      "аме вчасно . За два дні розпочнуться Ігри , і будь-які стосунки стали б нам на\n",
      "орила я . — Скажи , що такі серйозні Ігри зовсім не до снаги маленькій дівчинц\n",
      "ть і образу на Геймітча , на Голодні ігри і на Капітолій . Коли рудоволоса дів\n",
      "їхала сюди разом зі мною . ЧАСТИНА 2 ІГРИ РОЗДІЛ 1 На якусь мить камери ніби п\n",
      "ь і готуватимуть до появи на арені . Ігри почнуться не раніш як о десятій , ад\n",
      "адже пустельні краєвиди нудні , та й Ігри тоді закінчуються занадто швидко . Х\n",
      ", окрім як собою ? — Я не хочу , щоб Ігри змінили мене . Перетворили на чудови\n",
      ", оголошую сімдесят четверті Голодні ігри відкритими ! РОЗДІЛ 2 Шістдесят секу\n",
      "олії може занудьгувати : мовляв , ці Ігри геть не цікаві . А продюсери не пови\n",
      " . Я все своє життя дивилася Голодні ігри і знала , що певні секції арени осна\n",
      "вас-не-чіпатимемо . Але ж це Голодні ігри , і тут нічого не буває просто так .\n",
      "у і нашу слабкість . Гадаю , Голодні ігри були придумані з цією-таки метою . Щ\n"
     ]
    }
   ],
   "source": [
    "print(\"Concordance for the word 'ігри'\")\n",
    "text.concordance(\"ігри\")"
   ]
  },
  {
   "cell_type": "code",
   "execution_count": 19,
   "id": "92f9d28c",
   "metadata": {},
   "outputs": [],
   "source": [
    "import nltk\n",
    "\n",
    "\n",
    "with open('Golodni_igri.txt', 'r', encoding='utf-8') as f:\n",
    "    raw = f.read()\n",
    "\n",
    "\n",
    "tokens = nltk.word_tokenize(raw)\n",
    "\n",
    "\n",
    "text = nltk.Text(tokens)"
   ]
  },
  {
   "cell_type": "code",
   "execution_count": 20,
   "id": "2e521991",
   "metadata": {},
   "outputs": [
    {
     "name": "stdout",
     "output_type": "stream",
     "text": [
      "\n",
      "Words similar to 'голодні'\n",
      "було так плакала все залишилося розчув вбити такий розмовляємо округи\n",
      "почує арені впала йди бачила закінчилися можу виграю підвелася\n",
      "наїдалися\n"
     ]
    }
   ],
   "source": [
    "print(\"\\nWords similar to 'голодні'\")\n",
    "text.similar(\"голодні\")"
   ]
  },
  {
   "cell_type": "code",
   "execution_count": 71,
   "id": "8fe6b7b7",
   "metadata": {
    "scrolled": true
   },
   "outputs": [
    {
     "name": "stdout",
     "output_type": "stream",
     "text": [
      "\n",
      "Dispersion plot for words 'ігри', 'смерть', 'Капітолій', 'я', 'Прим'\n"
     ]
    },
    {
     "data": {
      "image/png": "[encoded data removed]",
      "text/plain": [
       "<Figure size 640x480 with 1 Axes>"
      ]
     },
     "metadata": {},
     "output_type": "display_data"
    }
   ],
   "source": [
    "print(\"\\nDispersion plot for words 'ігри', 'смерть', 'Капітолій', 'я', 'Прим'\")\n",
    "text.dispersion_plot([\"ігри\", \"смерть\", \"я\", \"Прим\", \"Капітолій\"])\n"
   ]
  },
  {
   "cell_type": "code",
   "execution_count": 21,
   "id": "6fc843eb",
   "metadata": {},
   "outputs": [
    {
     "name": "stdout",
     "output_type": "stream",
     "text": [
      "\n",
      "Most common words:\n",
      "[(',', 9709), ('.', 7598), ('—', 3120), ('я', 2095), ('не', 1970), ('на', 1720), ('і', 1535), ('що', 1338), ('з', 1090), ('Я', 1048), ('в', 985), ('й', 890), ('?', 834), ('мене', 825), ('до', 747), ('’', 725), ('він', 668), ('у', 635), ('як', 552), ('це', 503), ('мені', 483), ('але', 474), ('а', 472), ('його', 456), ('Піта', 413), ('за', 411), ('ми', 395), ('А', 363), ('щоб', 353), ('!', 350), ('Але', 350), ('вона', 331), ('від', 324), ('було', 313), (':', 311)]\n"
     ]
    }
   ],
   "source": [
    "fdist = FreqDist(text)\n",
    "print(\"\\nMost common words:\")\n",
    "print(fdist.most_common(35))"
   ]
  },
  {
   "cell_type": "markdown",
   "id": "67ccf4c0",
   "metadata": {},
   "source": [
    "## Task 3"
   ]
  },
  {
   "cell_type": "code",
   "execution_count": 23,
   "id": "a998b941",
   "metadata": {},
   "outputs": [
    {
     "name": "stdout",
     "output_type": "stream",
     "text": [
      "Monetary amounts found: [123.45, 400.0]\n"
     ]
    }
   ],
   "source": [
    "def extract_monetary_amounts(text):\n",
    "    pattern = r'\\$[0-9]+(?:\\.[0-9]{1,2})?'\n",
    "    matches = re.findall(pattern, text)\n",
    "    amounts = [float(match[1:]) for match in matches]\n",
    "    \n",
    "    return amounts\n",
    "\n",
    "text = \"first amount is $123.45, second amount is $400\"\n",
    "monetary_amounts = extract_monetary_amounts(text)\n",
    "print(\"Monetary amounts found:\", monetary_amounts)"
   ]
  },
  {
   "cell_type": "code",
   "execution_count": 24,
   "id": "15f57c18",
   "metadata": {},
   "outputs": [
    {
     "name": "stdout",
     "output_type": "stream",
     "text": [
      "Monetary amounts found: [123.0, 400.0]\n"
     ]
    }
   ],
   "source": [
    "def extract_monetary_amounts(text):\n",
    "    pattern = r'\\$[0-9]+(?:\\.[0-9]{1,2})?'\n",
    "    amounts = [float(match[1:]) for match in re.findall(pattern, text)]\n",
    "    \n",
    "    return amounts\n",
    "\n",
    "text = \"first amount is $123, second amount is $400\"\n",
    "monetary_amounts = extract_monetary_amounts(text)\n",
    "print(\"Monetary amounts found:\", monetary_amounts)"
   ]
  },
  {
   "cell_type": "code",
   "execution_count": 27,
   "id": "c5202d7b",
   "metadata": {},
   "outputs": [
    {
     "name": "stdout",
     "output_type": "stream",
     "text": [
      "Monetary amounts found: [123.45, 400.0]\n",
      "Total sum of monetary amounts: 523.45\n"
     ]
    }
   ],
   "source": [
    "def extract_monetary_amounts(text):\n",
    "    pattern = r'\\$[0-9]+(?:\\.[0-9]{1,2})?'\n",
    "    amounts = [float(match[1:]) for match in re.findall(pattern, text)]\n",
    "    \n",
    "    return amounts\n",
    "\n",
    "text = \"first amount is $123.45, second amount is $400\"\n",
    "monetary_amounts = extract_monetary_amounts(text)\n",
    "print(\"Monetary amounts found:\", monetary_amounts)\n",
    "\n",
    "total_amount = sum(monetary_amounts)\n",
    "print(\"Total sum of monetary amounts:\", total_amount)\n",
    "\n",
    "\n",
    "\n"
   ]
  },
  {
   "cell_type": "code",
   "execution_count": 26,
   "id": "8bf806b1",
   "metadata": {},
   "outputs": [
    {
     "name": "stdout",
     "output_type": "stream",
     "text": [
      "Monetary amounts: [45.0, 0]\n",
      "Total sum: 45.0\n"
     ]
    }
   ],
   "source": [
    "import re\n",
    "\n",
    "def extract_monetary_amounts(text):\n",
    "    pattern = r'\\$\\d+(\\.\\d{1,2})?'\n",
    "    matches = re.findall(pattern, text)\n",
    "    amounts = [float(match[1:]) if match[1:] else 0 for match in matches]\n",
    "    return amounts\n",
    "\n",
    "def sum_monetary_amounts(text):\n",
    "    amounts = extract_monetary_amounts(text)\n",
    "    total = sum(amounts)\n",
    "    return total\n",
    "\n",
    "example_text = \"First amount is $123.45, second amount is $400\"\n",
    "monetary_amounts = extract_monetary_amounts(example_text)\n",
    "print(\"Monetary amounts:\", monetary_amounts)\n",
    "total_amount = sum_monetary_amounts(example_text)\n",
    "print(\"Total sum:\", total_amount)\n"
   ]
  },
  {
   "cell_type": "markdown",
   "id": "48b70063",
   "metadata": {},
   "source": [
    "## Task 4"
   ]
  },
  {
   "cell_type": "code",
   "execution_count": 28,
   "id": "55f3c69d",
   "metadata": {},
   "outputs": [
    {
     "name": "stdout",
     "output_type": "stream",
     "text": [
      "{\n",
      "    \"HTTPHost\": \"localhost\",\n",
      "    \"HTTPPort\": 8545,\n",
      "    \"Config\": {\n",
      "        \"Enabled\": true,\n",
      "        \"Server\": \"wakuv2. prod\",\n",
      "        \"Nodes\": [\n",
      "            \"168.166.125.145\",\n",
      "            \"10.20.30.40\"\n",
      "        ]\n",
      "    }\n",
      "}\n"
     ]
    }
   ],
   "source": [
    "import json\n",
    "\n",
    "json_data = '''\n",
    "{\n",
    "    \"HTTPHost\": \"localhost\",\n",
    "    \"HTTPPort\": 8545,\n",
    "    \"Config\": {\n",
    "        \"Enabled\": true,\n",
    "        \"Server\": \"wakuv2. prod\",\n",
    "        \"Nodes\": [ \"8.210.222.231\", \"168.166.125.145\", \"10.20.30.40\" ]\n",
    "    }\n",
    "}\n",
    "'''\n",
    "\n",
    "def remove_nodes_starting_with_8(json_data):\n",
    "    data = json.loads(json_data)\n",
    "    data['Config']['Nodes'] = [node for node in data['Config']['Nodes'] if not re.match(r'^8\\.', node)]\n",
    "    updated_json_data = json.dumps(data, indent=4)\n",
    "    \n",
    "    return updated_json_data\n",
    "\n",
    "updated_json_data = remove_nodes_starting_with_8(json_data)\n",
    "print(updated_json_data)"
   ]
  },
  {
   "cell_type": "code",
   "execution_count": 29,
   "id": "25bacf53",
   "metadata": {},
   "outputs": [
    {
     "name": "stdout",
     "output_type": "stream",
     "text": [
      "{\n",
      "    \"HTTPHost\": \"localhost\",\n",
      "    \"HTTPPort\": 8545,\n",
      "    \"Config\": {\n",
      "        \"Enabled\": true,\n",
      "        \"Server\": {\n",
      "            \"name\": \"wakuv2\",\n",
      "            \"type\": \"prod\"\n",
      "        },\n",
      "        \"Nodes\": [\n",
      "            \"8.210.222.231\",\n",
      "            \"168.166.125.145\",\n",
      "            \"10.20.30.40\"\n",
      "        ]\n",
      "    }\n",
      "}\n"
     ]
    }
   ],
   "source": [
    "import json\n",
    "\n",
    "json_data = '''\n",
    "{\n",
    "    \"HTTPHost\": \"localhost\",\n",
    "    \"HTTPPort\": 8545,\n",
    "    \"Config\": {\n",
    "        \"Enabled\": true,\n",
    "        \"Server\": \"wakuv2.prod\",\n",
    "        \"Nodes\": [ \"8.210.222.231\", \"168.166.125.145\", \"10.20.30.40\" ]\n",
    "    }\n",
    "}\n",
    "'''\n",
    "\n",
    "def replace_server_entries(json_data):\n",
    "    data = json.loads(json_data)\n",
    "    server_name, server_type = data['Config']['Server'].split('.')\n",
    "    data['Config']['Server'] = {\"name\": server_name, \"type\": server_type}\n",
    "    updated_json_data = json.dumps(data, indent=4)\n",
    "    \n",
    "    return updated_json_data\n",
    "\n",
    "updated_json_data = replace_server_entries(json_data)\n",
    "print(updated_json_data)"
   ]
  },
  {
   "cell_type": "code",
   "execution_count": null,
   "id": "f5a279f3",
   "metadata": {},
   "outputs": [],
   "source": []
  }
 ],
 "metadata": {
  "kernelspec": {
   "display_name": "Python 3 (ipykernel)",
   "language": "python",
   "name": "python3"
  },
  "language_info": {
   "codemirror_mode": {
    "name": "ipython",
    "version": 3
   },
   "file_extension": ".py",
   "mimetype": "text/x-python",
   "name": "python",
   "nbconvert_exporter": "python",
   "pygments_lexer": "ipython3",
   "version": "3.11.5"
  }
 },
 "nbformat": 4,
 "nbformat_minor": 5
}
